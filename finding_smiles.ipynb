{
 "cells": [
  {
   "cell_type": "code",
   "execution_count": 3,
   "metadata": {
    "collapsed": false
   },
   "outputs": [
    {
     "name": "stdout",
     "output_type": "stream",
     "text": [
      "there are 744 unique salts\n"
     ]
    }
   ],
   "source": [
    "import pandas as pd\n",
    "import numpy as np\n",
    "from salty import check_name\n",
    "import pickle\n",
    "\n",
    "density_all=pd.read_csv('density.csv') #all 30k data\n",
    "density_all=density_all.drop(['Molar volume, m<SUP>3</SUP>/mol','Specific volume, m<SUP>3</SUP>/kg'],axis=1)\n",
    "salts=np.array(density_all.salt_name)\n",
    "unique_salts=np.unique(salts)\n",
    "len(unique_salts)\n",
    "\n",
    "print('there are '+str(len(unique_salts)) + ' unique salts')\n"
   ]
  },
  {
   "cell_type": "code",
   "execution_count": 5,
   "metadata": {
    "collapsed": false
   },
   "outputs": [],
   "source": [
    "two_without_split=[]\n",
    "for i in unique_salts:    #making a list to use when comparing for descriptor table\n",
    "    A=i.split()\n",
    "    if len(A)==2:\n",
    "        two_without_split.append(i)\n",
    "    else:\n",
    "        pass"
   ]
  },
  {
   "cell_type": "code",
   "execution_count": 7,
   "metadata": {
    "collapsed": false
   },
   "outputs": [
    {
     "name": "stdout",
     "output_type": "stream",
     "text": [
      "There are 668 salts of 1 each\n",
      "There are 72 salts of 2 cations/1anion or 2 anions/1 cation each\n",
      "There are 1 salts of 2 each\n",
      "There are 3 salts of 2 or more each\n"
     ]
    }
   ],
   "source": [
    "salts=[]\n",
    "two=[]\n",
    "three=[]\n",
    "four=[]\n",
    "more=[]\n",
    "for i in unique_salts:\n",
    "    A=i.split()              #sorting 2,3,4 and more ions into separate lists\n",
    "    if len(A)==2:\n",
    "        two.append(A)\n",
    "    elif len(A)==3:\n",
    "        three.append(A)\n",
    "    elif len(A)==4:\n",
    "        four.append(A)\n",
    "    else:\n",
    "        more.append(A)\n",
    "\n",
    "print('There are '+ str(len(two))+' salts of 1 each') #looks fine and clean\n",
    "print('There are '+ str(len(three))+' salts of 2 cations/1anion or 2 anions/1 cation each') #confirm which belongs to what\n",
    "print('There are '+ str(len(four))+' salts of 2 each')\n",
    "print('There are '+ str(len(more))+' salts of 2 or more each')"
   ]
  },
  {
   "cell_type": "code",
   "execution_count": 8,
   "metadata": {
    "collapsed": false
   },
   "outputs": [
    {
     "name": "stdout",
     "output_type": "stream",
     "text": [
      "There are 48 unique missing anions from the data base\n",
      "There are 141 unique missing cations from the data base\n"
     ]
    }
   ],
   "source": [
    "cation2=[]\n",
    "anion2=[]\n",
    "error2_anion=[]\n",
    "error2_cation=[]\n",
    "\n",
    "for i in two:\n",
    "    cation2.append(i[0])\n",
    "    anion2.append(i[1])\n",
    "\n",
    "for i in anion2:   #CHECKing CHECK_NAME FUNC FOR MISSING ANION OR CATION\n",
    "    #print(i)\n",
    "    try:\n",
    "        check_name(i)\n",
    "    except:\n",
    "        UnboundLocalError\n",
    "        error2_anion.append(i)\n",
    "        #print(i)\n",
    "for i in cation2:\n",
    "    #print(i)\n",
    "    try:\n",
    "        check_name(i)\n",
    "    except:\n",
    "        UnboundLocalError\n",
    "        error2_cation.append(i)\n",
    "\n",
    "print('There are '+ str(len(set(error2_anion)))+' unique missing anions from the data base')\n",
    "#print(error2_anion)\n",
    "print('There are '+ str(len(set(error2_cation)))+ ' unique missing cations from the data base')\n",
    "#len(set(error2_anion))"
   ]
  },
  {
   "cell_type": "code",
   "execution_count": 9,
   "metadata": {
    "collapsed": false
   },
   "outputs": [
    {
     "name": "stdout",
     "output_type": "stream",
     "text": [
      "handling 60 out of 72\n"
     ]
    }
   ],
   "source": [
    "anion3=[]  #anion3 is the list for salts with 3 ions\n",
    "cation3=[] #cation3 is the list for salts with 3ions\n",
    "count=0\n",
    "for i in three:\n",
    "    if 'sulfate' in i:\n",
    "        anion3.append(i[1]+' '+i[2])\n",
    "        cation3.append(i[0])\n",
    "        count+=1\n",
    "    elif 'phosphate' in i:\n",
    "        anion3.append(i[1]+' '+i[2])\n",
    "        cation3.append(i[0])\n",
    "        count+=1\n",
    "    elif 'phosphonate' in i:\n",
    "        anion3.append(i[1]+' '+i[2])\n",
    "        cation3.append(i[0])\n",
    "        count+=1\n",
    "    elif 'carbonate' in i:\n",
    "        anion3.append(i[1]+' '+i[2])\n",
    "        cation3.append(i[0])\n",
    "        count+=1\n",
    "\n",
    "print('handling '+ str(count)+ ' out of '+str(len(three)))\n"
   ]
  },
  {
   "cell_type": "code",
   "execution_count": 10,
   "metadata": {
    "collapsed": false
   },
   "outputs": [
    {
     "name": "stdout",
     "output_type": "stream",
     "text": [
      "There are 2 missing anions from the data base\n",
      "There are 19 missing cations from the data base\n"
     ]
    }
   ],
   "source": [
    "for n,i in enumerate(anion3): #fixing the space to make it compatible with database\n",
    "    if i=='diethyl phosphate':\n",
    "        anion3[n]='diethylphosphate'\n",
    "    elif i=='dimethyl phosphate':\n",
    "        anion3[n]='dimethylphosphate'\n",
    "\n",
    "\n",
    "error3_anion=[]\n",
    "for i in anion3:\n",
    "        try:\n",
    "            check_name(i)\n",
    "        except:\n",
    "            UnboundLocalError\n",
    "            error3_anion.append(i)\n",
    "\n",
    "error3_cation=[]\n",
    "for i in cation3:\n",
    "        try:\n",
    "            check_name(i)\n",
    "        except:\n",
    "            UnboundLocalError\n",
    "            error3_cation.append(i)\n",
    "\n",
    "\n",
    "\n",
    "print('There are '+ str(len(set(error3_anion)))+ ' missing anions from the data base')\n",
    "#error3_anion\n",
    "print('There are '+ str(len(set(error3_cation)))+ ' missing cations from the data base')\n",
    "#error3_cation\n"
   ]
  }
 ],
 "metadata": {
  "kernelspec": {
   "display_name": "Python 3",
   "language": "python",
   "name": "python3"
  },
  "language_info": {
   "codemirror_mode": {
    "name": "ipython",
    "version": 3
   },
   "file_extension": ".py",
   "mimetype": "text/x-python",
   "name": "python",
   "nbconvert_exporter": "python",
   "pygments_lexer": "ipython3",
   "version": "3.6.0"
  }
 },
 "nbformat": 4,
 "nbformat_minor": 2
}

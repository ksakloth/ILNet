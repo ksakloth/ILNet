{
 "cells": [
  {
   "cell_type": "code",
   "execution_count": 26,
   "metadata": {
    "collapsed": true,
    "deletable": true,
    "editable": true
   },
   "outputs": [],
   "source": [
    "import pandas as pd\n",
    "import numpy as np"
   ]
  },
  {
   "cell_type": "code",
   "execution_count": 37,
   "metadata": {
    "collapsed": false,
    "deletable": true,
    "editable": true
   },
   "outputs": [
    {
     "name": "stdout",
     "output_type": "stream",
     "text": [
      "(31326, 6) (12629, 5) (16957, 4)\n"
     ]
    }
   ],
   "source": [
    "density=pd.read_csv('density.csv')\n",
    "cpt=pd.read_csv('cpt.csv')\n",
    "viscosity=pd.read_csv('viscosity.csv')\n",
    "print(density.shape,viscosity.shape,cpt.shape)"
   ]
  },
  {
   "cell_type": "code",
   "execution_count": 38,
   "metadata": {
    "collapsed": false
   },
   "outputs": [
    {
     "data": {
      "text/html": [
       "<div>\n",
       "<table border=\"1\" class=\"dataframe\">\n",
       "  <thead>\n",
       "    <tr style=\"text-align: right;\">\n",
       "      <th></th>\n",
       "      <th>Kinematic viscosity, m&lt;SUP&gt;2&lt;/SUP&gt;/s</th>\n",
       "      <th>Pressure, kPa</th>\n",
       "      <th>Temperature, K</th>\n",
       "      <th>Viscosity, Pa&amp;#8226;s</th>\n",
       "      <th>salt_name</th>\n",
       "    </tr>\n",
       "  </thead>\n",
       "  <tbody>\n",
       "    <tr>\n",
       "      <th>0</th>\n",
       "      <td>NaN</td>\n",
       "      <td>101.000</td>\n",
       "      <td>298.15</td>\n",
       "      <td>0.1954</td>\n",
       "      <td>1-hexyl-3-methylimidazolium tetrafluoroborate</td>\n",
       "    </tr>\n",
       "    <tr>\n",
       "      <th>1</th>\n",
       "      <td>NaN</td>\n",
       "      <td>101.325</td>\n",
       "      <td>298.10</td>\n",
       "      <td>0.0880</td>\n",
       "      <td>N,N-diethyl-2-methoxy-N-methylethan-1-aminium ...</td>\n",
       "    </tr>\n",
       "    <tr>\n",
       "      <th>2</th>\n",
       "      <td>NaN</td>\n",
       "      <td>101.325</td>\n",
       "      <td>298.10</td>\n",
       "      <td>0.0910</td>\n",
       "      <td>N,N,N-triethyl-2-methoxyethan-1-aminium triflu...</td>\n",
       "    </tr>\n",
       "    <tr>\n",
       "      <th>3</th>\n",
       "      <td>NaN</td>\n",
       "      <td>101.325</td>\n",
       "      <td>298.10</td>\n",
       "      <td>0.0700</td>\n",
       "      <td>N-ethyl-2-methoxy-N,N-dimethylethan-1-aminium ...</td>\n",
       "    </tr>\n",
       "    <tr>\n",
       "      <th>4</th>\n",
       "      <td>NaN</td>\n",
       "      <td>101.325</td>\n",
       "      <td>298.10</td>\n",
       "      <td>0.0760</td>\n",
       "      <td>2-methoxy-N,N,N-trimethylethan-1-aminium trifl...</td>\n",
       "    </tr>\n",
       "  </tbody>\n",
       "</table>\n",
       "</div>"
      ],
      "text/plain": [
       "   Kinematic viscosity, m<SUP>2</SUP>/s  Pressure, kPa  Temperature, K  \\\n",
       "0                                   NaN        101.000          298.15   \n",
       "1                                   NaN        101.325          298.10   \n",
       "2                                   NaN        101.325          298.10   \n",
       "3                                   NaN        101.325          298.10   \n",
       "4                                   NaN        101.325          298.10   \n",
       "\n",
       "   Viscosity, Pa&#8226;s                                          salt_name  \n",
       "0                 0.1954      1-hexyl-3-methylimidazolium tetrafluoroborate  \n",
       "1                 0.0880  N,N-diethyl-2-methoxy-N-methylethan-1-aminium ...  \n",
       "2                 0.0910  N,N,N-triethyl-2-methoxyethan-1-aminium triflu...  \n",
       "3                 0.0700  N-ethyl-2-methoxy-N,N-dimethylethan-1-aminium ...  \n",
       "4                 0.0760  2-methoxy-N,N,N-trimethylethan-1-aminium trifl...  "
      ]
     },
     "execution_count": 38,
     "metadata": {},
     "output_type": "execute_result"
    }
   ],
   "source": [
    "viscosity.head()"
   ]
  },
  {
   "cell_type": "code",
   "execution_count": 42,
   "metadata": {
    "collapsed": false
   },
   "outputs": [
    {
     "data": {
      "text/plain": [
       "(43083, 9)"
      ]
     },
     "execution_count": 42,
     "metadata": {},
     "output_type": "execute_result"
    }
   ],
   "source": [
    "two=pd.merge(density,cpt,on=['Pressure, kPa','Temperature, K','salt_name'],how='inner')\n",
    "total=pd.merge(two,viscosity,on=['Pressure, kPa','Temperature, K','salt_name'],how='inner')\n",
    "total.shape"
   ]
  },
  {
   "cell_type": "code",
   "execution_count": 43,
   "metadata": {
    "collapsed": false
   },
   "outputs": [],
   "source": [
    "total=total.drop(['Molar volume, m<SUP>3</SUP>/mol','Specific volume, m<SUP>3</SUP>/kg','Kinematic viscosity, m<SUP>2</SUP>/s'],axis=1)"
   ]
  },
  {
   "cell_type": "code",
   "execution_count": 41,
   "metadata": {
    "collapsed": false
   },
   "outputs": [
    {
     "data": {
      "text/plain": [
       "(26659, 6)"
      ]
     },
     "execution_count": 41,
     "metadata": {},
     "output_type": "execute_result"
    }
   ],
   "source": [
    "total.drop_duplicates(keep='first').shape #7000 duplicAtes"
   ]
  },
  {
   "cell_type": "code",
   "execution_count": null,
   "metadata": {
    "collapsed": true
   },
   "outputs": [],
   "source": []
  }
 ],
 "metadata": {
  "kernelspec": {
   "display_name": "Python 3",
   "language": "python",
   "name": "python3"
  },
  "language_info": {
   "codemirror_mode": {
    "name": "ipython",
    "version": 3
   },
   "file_extension": ".py",
   "mimetype": "text/x-python",
   "name": "python",
   "nbconvert_exporter": "python",
   "pygments_lexer": "ipython3",
   "version": "3.6.0"
  }
 },
 "nbformat": 4,
 "nbformat_minor": 2
}

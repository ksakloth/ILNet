{
 "cells": [
  {
   "cell_type": "markdown",
   "metadata": {
    "deletable": true,
    "editable": true
   },
   "source": [
    "* Ionic liquids— salts that melt below the boiling point of water.   \n",
    "* Ionic liquids don't have a measurable vapor pressure at room temperature.     \n",
    "* With typical vapor pressures in the range of 10^-10 pascal (10-14 psi), ionic liquids have essentially no vapor emissions and so look like excellent candidates for \"green solvents\" to replace hazardous, air-polluting organic solvents like acetone and benzene. \n",
    "* With dozens of anions and cations to choose from, they can be tailored to specific needs and may be particularly useful as solvents for biocatalysis."
   ]
  },
  {
   "cell_type": "code",
   "execution_count": 1,
   "metadata": {
    "collapsed": false,
    "deletable": true,
    "editable": true
   },
   "outputs": [
    {
     "name": "stdout",
     "output_type": "stream",
     "text": [
      "there are 640 unique salts\n"
     ]
    }
   ],
   "source": [
    "import pandas as pd\n",
    "import numpy as np\n",
    "import salty\n",
    "from salty import check_name\n",
    "import pickle\n",
    "\n",
    "visc_all=pd.read_csv('viscosity.csv') #all 13k data\n",
    "d2=visc_all\n",
    "salts=np.array(visc_all.salt_name)\n",
    "unique_salts=np.unique(salts)\n",
    "len(unique_salts)\n",
    "print('there are '+str(len(unique_salts)) + ' unique salts')"
   ]
  },
  {
   "cell_type": "markdown",
   "metadata": {
    "deletable": true,
    "editable": true
   },
   "source": [
    "#### Database ~13,000 out of which 640 salts are unique, the rest are repeated at different Temperatures and Pressures"
   ]
  },
  {
   "cell_type": "code",
   "execution_count": 2,
   "metadata": {
    "collapsed": false,
    "deletable": true,
    "editable": true
   },
   "outputs": [
    {
     "name": "stdout",
     "output_type": "stream",
     "text": [
      "There are 576 salts of 1 each\n",
      "There are 59 salts of 2 cations/1anion or 2 anions/1 cation each\n",
      "There are 2 salts of 2 each\n",
      "There are 3 salts of 2 or more each\n"
     ]
    }
   ],
   "source": [
    "salts=[]\n",
    "two=[]\n",
    "three=[]\n",
    "four=[]\n",
    "more=[]\n",
    "for i in unique_salts:\n",
    "    A=i.split()              #sorting 2,3,4 and more ions into separate lists\n",
    "    if len(A)==2:\n",
    "        two.append(A)\n",
    "    elif len(A)==3:\n",
    "        three.append(A)\n",
    "    elif len(A)==4:\n",
    "        four.append(A)\n",
    "    else:\n",
    "        more.append(A)\n",
    "\n",
    "print('There are '+ str(len(two))+' salts of 1 each') #looks fine and clean\n",
    "print('There are '+ str(len(three))+' salts of 2 cations/1anion or 2 anions/1 cation each') #confirm which belongs to what\n",
    "print('There are '+ str(len(four))+' salts of 2 each')\n",
    "print('There are '+ str(len(more))+' salts of 2 or more each')"
   ]
  },
  {
   "cell_type": "markdown",
   "metadata": {
    "deletable": true,
    "editable": true
   },
   "source": [
    "### Using salty to generate smiles"
   ]
  },
  {
   "cell_type": "code",
   "execution_count": 3,
   "metadata": {
    "collapsed": false,
    "deletable": true,
    "editable": true
   },
   "outputs": [
    {
     "name": "stdout",
     "output_type": "stream",
     "text": [
      "There are 16 unique missing anions from the data base\n",
      "There are 59 unique missing cations from the data base\n"
     ]
    }
   ],
   "source": [
    "cation2=[]\n",
    "anion2=[]\n",
    "cation2_smiles=[]\n",
    "anion2_smiles=[]\n",
    "error2_anion=[]\n",
    "error2_cation=[]\n",
    "\n",
    "for i in two:\n",
    "    cation2.append(i[0])\n",
    "    anion2.append(i[1])\n",
    "\n",
    "for i in cation2:\n",
    "    #print(i)\n",
    "    try:\n",
    "        check_name(i)\n",
    "        cation2_smiles.append(check_name(i))\n",
    "    except:\n",
    "        UnboundLocalError\n",
    "        error2_cation.append(i)\n",
    "        \n",
    "for i in anion2:   #CHECKing CHECK_NAME FUNC FOR MISSING ANION OR CATION\n",
    "    #print(i)\n",
    "    try:\n",
    "        check_name(i)\n",
    "        anion2_smiles.append(check_name(i))\n",
    "    except:\n",
    "        UnboundLocalError\n",
    "        error2_anion.append(i)\n",
    "        #print(i)\n",
    "\n",
    "print('There are '+ str(len(set(error2_anion)))+' unique missing anions from the data base')\n",
    "#print(error2_anion)\n",
    "print('There are '+ str(len(set(error2_cation)))+ ' unique missing cations from the data base')\n",
    "#len(set(error2_anion))\n",
    "#print(len(cation2))\n",
    "#print(len(cation2_smiles))\n",
    "#print(len(anion2))\n",
    "#print(len(anion2_smiles))"
   ]
  },
  {
   "cell_type": "code",
   "execution_count": 4,
   "metadata": {
    "collapsed": true,
    "deletable": true,
    "editable": true
   },
   "outputs": [],
   "source": [
    "df = pd.DataFrame({'cation':cation2,'anion':anion2,'cation_smiles':np.nan,'anion_smiles':np.nan})\n",
    "for i in df.index:\n",
    "    try:\n",
    "        p=check_name(df['cation'][i])\n",
    "        df.loc[i,'cation_smiles']=p\n",
    "    except:\n",
    "        UnboundLocalError\n",
    "for i in df.index:\n",
    "    try:\n",
    "        p=check_name(df['anion'][i])\n",
    "        df.loc[i,'anion_smiles']=p\n",
    "    except:\n",
    "        UnboundLocalError    "
   ]
  },
  {
   "cell_type": "code",
   "execution_count": 5,
   "metadata": {
    "collapsed": false,
    "deletable": true,
    "editable": true
   },
   "outputs": [
    {
     "name": "stdout",
     "output_type": "stream",
     "text": [
      "Removing 86 rows\n",
      "(490, 4)\n"
     ]
    }
   ],
   "source": [
    "nan_rows = df[df.isnull().T.any().T]\n",
    "print('Removing '+str(nan_rows.shape[0]) +' rows')\n",
    "df=df.dropna()\n",
    "print(df.shape)\n",
    "df.to_csv('uniqsalts+smiles+viscosity.csv')"
   ]
  },
  {
   "cell_type": "markdown",
   "metadata": {
    "deletable": true,
    "editable": true
   },
   "source": [
    "### Handling two word anions "
   ]
  },
  {
   "cell_type": "code",
   "execution_count": 6,
   "metadata": {
    "collapsed": false,
    "deletable": true,
    "editable": true
   },
   "outputs": [
    {
     "name": "stdout",
     "output_type": "stream",
     "text": [
      "handling 53 out of 59\n"
     ]
    }
   ],
   "source": [
    "anion3=[]  #handling 2 word anions\n",
    "cation3=[] \n",
    "count=0\n",
    "for i in three:\n",
    "    if 'sulfate' in i:\n",
    "        anion3.append(i[1]+' '+i[2])\n",
    "        cation3.append(i[0])\n",
    "        count+=1\n",
    "    elif 'phosphate' in i:\n",
    "        anion3.append(i[1]+' '+i[2])\n",
    "        cation3.append(i[0])\n",
    "        count+=1\n",
    "    elif 'phosphonate' in i:\n",
    "        anion3.append(i[1]+' '+i[2])\n",
    "        cation3.append(i[0])\n",
    "        count+=1\n",
    "    elif 'carbonate' in i:\n",
    "        anion3.append(i[1]+' '+i[2])\n",
    "        cation3.append(i[0])\n",
    "        count+=1\n",
    "\n",
    "print('handling '+ str(count)+ ' out of '+str(len(three)))"
   ]
  },
  {
   "cell_type": "code",
   "execution_count": 7,
   "metadata": {
    "collapsed": false,
    "deletable": true,
    "editable": true
   },
   "outputs": [
    {
     "name": "stdout",
     "output_type": "stream",
     "text": [
      "There are 0 unique missing anions from the data base\n",
      "There are 7 unique missing cations from the data base\n"
     ]
    }
   ],
   "source": [
    "for n,i in enumerate(anion3): #fixing the space to make it compatible with database\n",
    "    if i=='diethyl phosphate':\n",
    "        anion3[n]='diethylphosphate'\n",
    "    elif i=='dimethyl phosphate':\n",
    "        anion3[n]='dimethylphosphate'\n",
    "\n",
    "\n",
    "error3_anion=[]\n",
    "for i in anion3:\n",
    "        try:\n",
    "            check_name(i)\n",
    "        except:\n",
    "            UnboundLocalError\n",
    "            error3_anion.append(i)\n",
    "\n",
    "error3_cation=[]\n",
    "for i in cation3:\n",
    "        try:\n",
    "            check_name(i)\n",
    "        except:\n",
    "            UnboundLocalError\n",
    "            error3_cation.append(i)\n",
    "\n",
    "\n",
    "\n",
    "print('There are '+ str(len(set(error3_anion)))+ ' unique missing anions from the data base')\n",
    "#error3_anion\n",
    "print('There are '+ str(len(set(error3_cation)))+ ' unique missing cations from the data base')\n",
    "#error3_cation"
   ]
  },
  {
   "cell_type": "markdown",
   "metadata": {
    "deletable": true,
    "editable": true
   },
   "source": [
    "### Combining descriptors with the salts to 1 database"
   ]
  },
  {
   "cell_type": "code",
   "execution_count": 8,
   "metadata": {
    "collapsed": false,
    "deletable": true,
    "editable": true
   },
   "outputs": [],
   "source": [
    "for i in d2.index:\n",
    "    A=d2['salt_name'][i].split()\n",
    "    if len(A)==2:\n",
    "        pass\n",
    "    else:\n",
    "        d2.drop(i,axis=0,inplace=True)\n",
    "d2=d2.drop(['Kinematic viscosity, m<SUP>2</SUP>/s'],axis=1)"
   ]
  },
  {
   "cell_type": "code",
   "execution_count": 9,
   "metadata": {
    "collapsed": true,
    "deletable": true,
    "editable": true
   },
   "outputs": [],
   "source": [
    "cationDescriptors = salty.load_data(\"cationDescriptors.csv\")\n",
    "cationDescriptors.columns = [str(col) + '-cation' for col in cationDescriptors.columns]\n",
    "anionDescriptors = salty.load_data(\"anionDescriptors.csv\")\n",
    "anionDescriptors.columns = [str(col) + '-anion' for col in anionDescriptors.columns]"
   ]
  },
  {
   "cell_type": "code",
   "execution_count": 10,
   "metadata": {
    "collapsed": false,
    "deletable": true,
    "editable": true,
    "scrolled": true
   },
   "outputs": [
    {
     "name": "stdout",
     "output_type": "stream",
     "text": [
      "(11280, 196)\n"
     ]
    },
    {
     "data": {
      "text/html": [
       "<div>\n",
       "<table border=\"1\" class=\"dataframe\">\n",
       "  <thead>\n",
       "    <tr style=\"text-align: right;\">\n",
       "      <th></th>\n",
       "      <th>Pressure, kPa</th>\n",
       "      <th>Temperature, K</th>\n",
       "      <th>Viscosity, Pa&amp;#8226;s</th>\n",
       "      <th>salt_name</th>\n",
       "      <th>name-cation</th>\n",
       "      <th>name-anion</th>\n",
       "      <th>smiles-cation</th>\n",
       "      <th>steiger-cation</th>\n",
       "      <th>Marsili Partial Charges-cation</th>\n",
       "      <th>BalabanJ-cation</th>\n",
       "      <th>...</th>\n",
       "      <th>VSA_EState2-anion</th>\n",
       "      <th>VSA_EState3-anion</th>\n",
       "      <th>VSA_EState4-anion</th>\n",
       "      <th>VSA_EState5-anion</th>\n",
       "      <th>VSA_EState6-anion</th>\n",
       "      <th>VSA_EState7-anion</th>\n",
       "      <th>VSA_EState8-anion</th>\n",
       "      <th>VSA_EState9-anion</th>\n",
       "      <th>VSA_EState10-anion</th>\n",
       "      <th>Topliss fragments-anion</th>\n",
       "    </tr>\n",
       "  </thead>\n",
       "  <tbody>\n",
       "    <tr>\n",
       "      <th>0</th>\n",
       "      <td>101.000</td>\n",
       "      <td>298.15</td>\n",
       "      <td>0.1954</td>\n",
       "      <td>1-hexyl-3-methylimidazolium tetrafluoroborate</td>\n",
       "      <td>1-hexyl-3-methylimidazolium</td>\n",
       "      <td>tetrafluoroborate</td>\n",
       "      <td>CCCCCCn1cc[n+](c1)C</td>\n",
       "      <td>777.0</td>\n",
       "      <td>777.0</td>\n",
       "      <td>2.153243</td>\n",
       "      <td>...</td>\n",
       "      <td>0.0</td>\n",
       "      <td>0.0</td>\n",
       "      <td>0.0</td>\n",
       "      <td>0.0</td>\n",
       "      <td>0.0</td>\n",
       "      <td>0.0</td>\n",
       "      <td>39.0</td>\n",
       "      <td>-6.0</td>\n",
       "      <td>0.0</td>\n",
       "      <td>777.0</td>\n",
       "    </tr>\n",
       "    <tr>\n",
       "      <th>1</th>\n",
       "      <td>101.325</td>\n",
       "      <td>298.15</td>\n",
       "      <td>0.1750</td>\n",
       "      <td>1-hexyl-3-methylimidazolium tetrafluoroborate</td>\n",
       "      <td>1-hexyl-3-methylimidazolium</td>\n",
       "      <td>tetrafluoroborate</td>\n",
       "      <td>CCCCCCn1cc[n+](c1)C</td>\n",
       "      <td>777.0</td>\n",
       "      <td>777.0</td>\n",
       "      <td>2.153243</td>\n",
       "      <td>...</td>\n",
       "      <td>0.0</td>\n",
       "      <td>0.0</td>\n",
       "      <td>0.0</td>\n",
       "      <td>0.0</td>\n",
       "      <td>0.0</td>\n",
       "      <td>0.0</td>\n",
       "      <td>39.0</td>\n",
       "      <td>-6.0</td>\n",
       "      <td>0.0</td>\n",
       "      <td>777.0</td>\n",
       "    </tr>\n",
       "    <tr>\n",
       "      <th>2</th>\n",
       "      <td>101.000</td>\n",
       "      <td>298.15</td>\n",
       "      <td>0.1718</td>\n",
       "      <td>1-hexyl-3-methylimidazolium tetrafluoroborate</td>\n",
       "      <td>1-hexyl-3-methylimidazolium</td>\n",
       "      <td>tetrafluoroborate</td>\n",
       "      <td>CCCCCCn1cc[n+](c1)C</td>\n",
       "      <td>777.0</td>\n",
       "      <td>777.0</td>\n",
       "      <td>2.153243</td>\n",
       "      <td>...</td>\n",
       "      <td>0.0</td>\n",
       "      <td>0.0</td>\n",
       "      <td>0.0</td>\n",
       "      <td>0.0</td>\n",
       "      <td>0.0</td>\n",
       "      <td>0.0</td>\n",
       "      <td>39.0</td>\n",
       "      <td>-6.0</td>\n",
       "      <td>0.0</td>\n",
       "      <td>777.0</td>\n",
       "    </tr>\n",
       "    <tr>\n",
       "      <th>3</th>\n",
       "      <td>101.325</td>\n",
       "      <td>298.15</td>\n",
       "      <td>0.2100</td>\n",
       "      <td>1-hexyl-3-methylimidazolium tetrafluoroborate</td>\n",
       "      <td>1-hexyl-3-methylimidazolium</td>\n",
       "      <td>tetrafluoroborate</td>\n",
       "      <td>CCCCCCn1cc[n+](c1)C</td>\n",
       "      <td>777.0</td>\n",
       "      <td>777.0</td>\n",
       "      <td>2.153243</td>\n",
       "      <td>...</td>\n",
       "      <td>0.0</td>\n",
       "      <td>0.0</td>\n",
       "      <td>0.0</td>\n",
       "      <td>0.0</td>\n",
       "      <td>0.0</td>\n",
       "      <td>0.0</td>\n",
       "      <td>39.0</td>\n",
       "      <td>-6.0</td>\n",
       "      <td>0.0</td>\n",
       "      <td>777.0</td>\n",
       "    </tr>\n",
       "    <tr>\n",
       "      <th>4</th>\n",
       "      <td>101.325</td>\n",
       "      <td>298.15</td>\n",
       "      <td>0.2024</td>\n",
       "      <td>1-hexyl-3-methylimidazolium tetrafluoroborate</td>\n",
       "      <td>1-hexyl-3-methylimidazolium</td>\n",
       "      <td>tetrafluoroborate</td>\n",
       "      <td>CCCCCCn1cc[n+](c1)C</td>\n",
       "      <td>777.0</td>\n",
       "      <td>777.0</td>\n",
       "      <td>2.153243</td>\n",
       "      <td>...</td>\n",
       "      <td>0.0</td>\n",
       "      <td>0.0</td>\n",
       "      <td>0.0</td>\n",
       "      <td>0.0</td>\n",
       "      <td>0.0</td>\n",
       "      <td>0.0</td>\n",
       "      <td>39.0</td>\n",
       "      <td>-6.0</td>\n",
       "      <td>0.0</td>\n",
       "      <td>777.0</td>\n",
       "    </tr>\n",
       "  </tbody>\n",
       "</table>\n",
       "<p>5 rows × 196 columns</p>\n",
       "</div>"
      ],
      "text/plain": [
       "   Pressure, kPa  Temperature, K  Viscosity, Pa&#8226;s  \\\n",
       "0        101.000          298.15                 0.1954   \n",
       "1        101.325          298.15                 0.1750   \n",
       "2        101.000          298.15                 0.1718   \n",
       "3        101.325          298.15                 0.2100   \n",
       "4        101.325          298.15                 0.2024   \n",
       "\n",
       "                                       salt_name                  name-cation  \\\n",
       "0  1-hexyl-3-methylimidazolium tetrafluoroborate  1-hexyl-3-methylimidazolium   \n",
       "1  1-hexyl-3-methylimidazolium tetrafluoroborate  1-hexyl-3-methylimidazolium   \n",
       "2  1-hexyl-3-methylimidazolium tetrafluoroborate  1-hexyl-3-methylimidazolium   \n",
       "3  1-hexyl-3-methylimidazolium tetrafluoroborate  1-hexyl-3-methylimidazolium   \n",
       "4  1-hexyl-3-methylimidazolium tetrafluoroborate  1-hexyl-3-methylimidazolium   \n",
       "\n",
       "          name-anion        smiles-cation  steiger-cation  \\\n",
       "0  tetrafluoroborate  CCCCCCn1cc[n+](c1)C           777.0   \n",
       "1  tetrafluoroborate  CCCCCCn1cc[n+](c1)C           777.0   \n",
       "2  tetrafluoroborate  CCCCCCn1cc[n+](c1)C           777.0   \n",
       "3  tetrafluoroborate  CCCCCCn1cc[n+](c1)C           777.0   \n",
       "4  tetrafluoroborate  CCCCCCn1cc[n+](c1)C           777.0   \n",
       "\n",
       "   Marsili Partial Charges-cation  BalabanJ-cation           ...             \\\n",
       "0                           777.0         2.153243           ...              \n",
       "1                           777.0         2.153243           ...              \n",
       "2                           777.0         2.153243           ...              \n",
       "3                           777.0         2.153243           ...              \n",
       "4                           777.0         2.153243           ...              \n",
       "\n",
       "   VSA_EState2-anion  VSA_EState3-anion  VSA_EState4-anion  VSA_EState5-anion  \\\n",
       "0                0.0                0.0                0.0                0.0   \n",
       "1                0.0                0.0                0.0                0.0   \n",
       "2                0.0                0.0                0.0                0.0   \n",
       "3                0.0                0.0                0.0                0.0   \n",
       "4                0.0                0.0                0.0                0.0   \n",
       "\n",
       "   VSA_EState6-anion  VSA_EState7-anion  VSA_EState8-anion  VSA_EState9-anion  \\\n",
       "0                0.0                0.0               39.0               -6.0   \n",
       "1                0.0                0.0               39.0               -6.0   \n",
       "2                0.0                0.0               39.0               -6.0   \n",
       "3                0.0                0.0               39.0               -6.0   \n",
       "4                0.0                0.0               39.0               -6.0   \n",
       "\n",
       "   VSA_EState10-anion  Topliss fragments-anion  \n",
       "0                 0.0                    777.0  \n",
       "1                 0.0                    777.0  \n",
       "2                 0.0                    777.0  \n",
       "3                 0.0                    777.0  \n",
       "4                 0.0                    777.0  \n",
       "\n",
       "[5 rows x 196 columns]"
      ]
     },
     "execution_count": 10,
     "metadata": {},
     "output_type": "execute_result"
    }
   ],
   "source": [
    "c=[]\n",
    "a=[]\n",
    "for i in d2.index:\n",
    "    c1,a1=d2['salt_name'][i].split()\n",
    "    c.append(c1)\n",
    "    a.append(a1)\n",
    "d2['name-cation']=c  \n",
    "d2['name-anion']=a\n",
    "d3=pd.merge(d2,cationDescriptors,on=\"name-cation\", how=\"inner\")\n",
    "d4=pd.merge(d3,anionDescriptors,on='name-anion',how=\"inner\")\n",
    "print(d4.shape)\n",
    "d4.head()"
   ]
  },
  {
   "cell_type": "markdown",
   "metadata": {
    "deletable": true,
    "editable": true
   },
   "source": [
    "### Removing rows with NA values for density"
   ]
  },
  {
   "cell_type": "code",
   "execution_count": 11,
   "metadata": {
    "collapsed": false,
    "deletable": true,
    "editable": true
   },
   "outputs": [
    {
     "name": "stdout",
     "output_type": "stream",
     "text": [
      "Removing 177 rows\n",
      "Final Shape: (11103, 196)\n"
     ]
    }
   ],
   "source": [
    "nan_rows = d4[d4.isnull().T.any().T]\n",
    "print('Removing '+str(nan_rows.shape[0]) +' rows')\n",
    "d4=d4.dropna()\n",
    "d4.shape\n",
    "d4.to_csv(\"salts+descriptors+viscosity.csv\")\n",
    "print('Final Shape: '+str(d4.shape))"
   ]
  },
  {
   "cell_type": "code",
   "execution_count": 12,
   "metadata": {
    "collapsed": false,
    "deletable": true,
    "editable": true
   },
   "outputs": [
    {
     "data": {
      "text/plain": [
       "(10846, 196)"
      ]
     },
     "execution_count": 12,
     "metadata": {},
     "output_type": "execute_result"
    }
   ],
   "source": [
    "d4.drop_duplicates(keep='first').shape"
   ]
  },
  {
   "cell_type": "code",
   "execution_count": 13,
   "metadata": {
    "collapsed": true,
    "deletable": true,
    "editable": true
   },
   "outputs": [],
   "source": [
    "import matplotlib.pyplot as plt"
   ]
  },
  {
   "cell_type": "code",
   "execution_count": 20,
   "metadata": {
    "collapsed": false,
    "deletable": true,
    "editable": true
   },
   "outputs": [
    {
     "data": {
      "image/png": "[encoded data removed]",
      "text/plain": [
       "<matplotlib.figure.Figure at 0x1d31a6358d0>"
      ]
     },
     "metadata": {},
     "output_type": "display_data"
    }
   ],
   "source": [
    "plt.hist(d4['Pressure, kPa'],bins=50)\n",
    "plt.show()"
   ]
  },
  {
   "cell_type": "code",
   "execution_count": 29,
   "metadata": {
    "collapsed": false,
    "deletable": true,
    "editable": true
   },
   "outputs": [
    {
     "data": {
      "text/plain": [
       "(194, 196)"
      ]
     },
     "execution_count": 29,
     "metadata": {},
     "output_type": "execute_result"
    }
   ],
   "source": [
    "d4[d4['Pressure, kPa']>100000].shape"
   ]
  },
  {
   "cell_type": "code",
   "execution_count": null,
   "metadata": {
    "collapsed": true
   },
   "outputs": [],
   "source": []
  },
  {
   "cell_type": "code",
   "execution_count": null,
   "metadata": {
    "collapsed": true
   },
   "outputs": [],
   "source": []
  }
 ],
 "metadata": {
  "kernelspec": {
   "display_name": "Python 3",
   "language": "python",
   "name": "python3"
  },
  "language_info": {
   "codemirror_mode": {
    "name": "ipython",
    "version": 3
   },
   "file_extension": ".py",
   "mimetype": "text/x-python",
   "name": "python",
   "nbconvert_exporter": "python",
   "pygments_lexer": "ipython3",
   "version": "3.6.0"
  }
 },
 "nbformat": 4,
 "nbformat_minor": 2
}

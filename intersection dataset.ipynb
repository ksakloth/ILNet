{
 "cells": [
  {
   "cell_type": "code",
   "execution_count": 18,
   "metadata": {
    "collapsed": true,
    "deletable": true,
    "editable": true
   },
   "outputs": [],
   "source": [
    "import pandas as pd\n",
    "import numpy as np"
   ]
  },
  {
   "cell_type": "code",
   "execution_count": 19,
   "metadata": {
    "collapsed": false,
    "deletable": true,
    "editable": true
   },
   "outputs": [
    {
     "name": "stdout",
     "output_type": "stream",
     "text": [
      "(31326, 6) (12629, 5) (16957, 4)\n"
     ]
    }
   ],
   "source": [
    "density=pd.read_csv('density.csv')\n",
    "cpt=pd.read_csv('cpt.csv')\n",
    "viscosity=pd.read_csv('viscosity.csv')\n",
    "print(density.shape,viscosity.shape,cpt.shape)"
   ]
  },
  {
   "cell_type": "code",
   "execution_count": 31,
   "metadata": {
    "collapsed": false,
    "deletable": true,
    "editable": true
   },
   "outputs": [
    {
     "data": {
      "text/html": [
       "<div>\n",
       "<table border=\"1\" class=\"dataframe\">\n",
       "  <thead>\n",
       "    <tr style=\"text-align: right;\">\n",
       "      <th></th>\n",
       "      <th>Kinematic viscosity, m&lt;SUP&gt;2&lt;/SUP&gt;/s</th>\n",
       "      <th>Pressure, kPa</th>\n",
       "      <th>Temperature, K</th>\n",
       "      <th>Viscosity, Pa&amp;#8226;s</th>\n",
       "      <th>salt_name</th>\n",
       "    </tr>\n",
       "  </thead>\n",
       "  <tbody>\n",
       "    <tr>\n",
       "      <th>0</th>\n",
       "      <td>NaN</td>\n",
       "      <td>101.000</td>\n",
       "      <td>298.15</td>\n",
       "      <td>0.1954</td>\n",
       "      <td>1-hexyl-3-methylimidazolium tetrafluoroborate</td>\n",
       "    </tr>\n",
       "    <tr>\n",
       "      <th>1</th>\n",
       "      <td>NaN</td>\n",
       "      <td>101.325</td>\n",
       "      <td>298.10</td>\n",
       "      <td>0.0880</td>\n",
       "      <td>N,N-diethyl-2-methoxy-N-methylethan-1-aminium ...</td>\n",
       "    </tr>\n",
       "    <tr>\n",
       "      <th>2</th>\n",
       "      <td>NaN</td>\n",
       "      <td>101.325</td>\n",
       "      <td>298.10</td>\n",
       "      <td>0.0910</td>\n",
       "      <td>N,N,N-triethyl-2-methoxyethan-1-aminium triflu...</td>\n",
       "    </tr>\n",
       "    <tr>\n",
       "      <th>3</th>\n",
       "      <td>NaN</td>\n",
       "      <td>101.325</td>\n",
       "      <td>298.10</td>\n",
       "      <td>0.0700</td>\n",
       "      <td>N-ethyl-2-methoxy-N,N-dimethylethan-1-aminium ...</td>\n",
       "    </tr>\n",
       "    <tr>\n",
       "      <th>4</th>\n",
       "      <td>NaN</td>\n",
       "      <td>101.325</td>\n",
       "      <td>298.10</td>\n",
       "      <td>0.0760</td>\n",
       "      <td>2-methoxy-N,N,N-trimethylethan-1-aminium trifl...</td>\n",
       "    </tr>\n",
       "  </tbody>\n",
       "</table>\n",
       "</div>"
      ],
      "text/plain": [
       "   Kinematic viscosity, m<SUP>2</SUP>/s  Pressure, kPa  Temperature, K  \\\n",
       "0                                   NaN        101.000          298.15   \n",
       "1                                   NaN        101.325          298.10   \n",
       "2                                   NaN        101.325          298.10   \n",
       "3                                   NaN        101.325          298.10   \n",
       "4                                   NaN        101.325          298.10   \n",
       "\n",
       "   Viscosity, Pa&#8226;s                                          salt_name  \n",
       "0                 0.1954      1-hexyl-3-methylimidazolium tetrafluoroborate  \n",
       "1                 0.0880  N,N-diethyl-2-methoxy-N-methylethan-1-aminium ...  \n",
       "2                 0.0910  N,N,N-triethyl-2-methoxyethan-1-aminium triflu...  \n",
       "3                 0.0700  N-ethyl-2-methoxy-N,N-dimethylethan-1-aminium ...  \n",
       "4                 0.0760  2-methoxy-N,N,N-trimethylethan-1-aminium trifl...  "
      ]
     },
     "execution_count": 31,
     "metadata": {},
     "output_type": "execute_result"
    }
   ],
   "source": [
    "viscosity.head()"
   ]
  },
  {
   "cell_type": "code",
   "execution_count": 32,
   "metadata": {
    "collapsed": false,
    "deletable": true,
    "editable": true
   },
   "outputs": [
    {
     "data": {
      "text/plain": [
       "(43083, 9)"
      ]
     },
     "execution_count": 32,
     "metadata": {},
     "output_type": "execute_result"
    }
   ],
   "source": [
    "two=pd.merge(density,cpt,on=['Pressure, kPa','Temperature, K','salt_name'],how='inner')\n",
    "total=pd.merge(two,viscosity,on=['Pressure, kPa','Temperature, K','salt_name'],how='inner')\n",
    "total.shape"
   ]
  },
  {
   "cell_type": "code",
   "execution_count": 33,
   "metadata": {
    "collapsed": false,
    "deletable": true,
    "editable": true
   },
   "outputs": [
    {
     "data": {
      "text/plain": [
       "(43083, 6)"
      ]
     },
     "execution_count": 33,
     "metadata": {},
     "output_type": "execute_result"
    }
   ],
   "source": [
    "total=total.drop(['Molar volume, m<SUP>3</SUP>/mol','Specific volume, m<SUP>3</SUP>/kg','Kinematic viscosity, m<SUP>2</SUP>/s'],axis=1)\n",
    "total.shape"
   ]
  },
  {
   "cell_type": "code",
   "execution_count": 36,
   "metadata": {
    "collapsed": false
   },
   "outputs": [
    {
     "data": {
      "text/plain": [
       "(26659, 6)"
      ]
     },
     "execution_count": 36,
     "metadata": {},
     "output_type": "execute_result"
    }
   ],
   "source": [
    "total.drop_duplicates(keep='first').shape"
   ]
  },
  {
   "cell_type": "code",
   "execution_count": 37,
   "metadata": {
    "collapsed": false,
    "deletable": true,
    "editable": true
   },
   "outputs": [],
   "source": [
    "total=total.drop_duplicates(keep='first') #7000 duplicAtes"
   ]
  },
  {
   "cell_type": "code",
   "execution_count": 38,
   "metadata": {
    "collapsed": false,
    "deletable": true,
    "editable": true
   },
   "outputs": [],
   "source": [
    "total.to_csv('intersection_all.csv')"
   ]
  },
  {
   "cell_type": "code",
   "execution_count": 39,
   "metadata": {
    "collapsed": false,
    "deletable": true,
    "editable": true
   },
   "outputs": [
    {
     "data": {
      "text/html": [
       "<div>\n",
       "<table border=\"1\" class=\"dataframe\">\n",
       "  <thead>\n",
       "    <tr style=\"text-align: right;\">\n",
       "      <th></th>\n",
       "      <th>Pressure, kPa</th>\n",
       "      <th>Specific density, kg/m&lt;SUP&gt;3&lt;/SUP&gt;</th>\n",
       "      <th>Temperature, K</th>\n",
       "      <th>Heat capacity at constant pressure, J/K/mol</th>\n",
       "      <th>Viscosity, Pa&amp;#8226;s</th>\n",
       "    </tr>\n",
       "  </thead>\n",
       "  <tbody>\n",
       "    <tr>\n",
       "      <th>count</th>\n",
       "      <td>26659.000000</td>\n",
       "      <td>26189.000000</td>\n",
       "      <td>26659.000000</td>\n",
       "      <td>26659.000000</td>\n",
       "      <td>25664.000000</td>\n",
       "    </tr>\n",
       "    <tr>\n",
       "      <th>mean</th>\n",
       "      <td>117.687771</td>\n",
       "      <td>1287.773426</td>\n",
       "      <td>309.576745</td>\n",
       "      <td>458.697542</td>\n",
       "      <td>0.086311</td>\n",
       "    </tr>\n",
       "    <tr>\n",
       "      <th>std</th>\n",
       "      <td>508.905440</td>\n",
       "      <td>131.732158</td>\n",
       "      <td>15.635774</td>\n",
       "      <td>140.641191</td>\n",
       "      <td>0.160244</td>\n",
       "    </tr>\n",
       "    <tr>\n",
       "      <th>min</th>\n",
       "      <td>100.000000</td>\n",
       "      <td>847.500000</td>\n",
       "      <td>278.150000</td>\n",
       "      <td>231.800000</td>\n",
       "      <td>0.003160</td>\n",
       "    </tr>\n",
       "    <tr>\n",
       "      <th>25%</th>\n",
       "      <td>101.325000</td>\n",
       "      <td>1195.000000</td>\n",
       "      <td>298.150000</td>\n",
       "      <td>369.900000</td>\n",
       "      <td>0.030130</td>\n",
       "    </tr>\n",
       "    <tr>\n",
       "      <th>50%</th>\n",
       "      <td>101.325000</td>\n",
       "      <td>1243.800000</td>\n",
       "      <td>303.150000</td>\n",
       "      <td>411.600000</td>\n",
       "      <td>0.052200</td>\n",
       "    </tr>\n",
       "    <tr>\n",
       "      <th>75%</th>\n",
       "      <td>101.325000</td>\n",
       "      <td>1405.410000</td>\n",
       "      <td>318.150000</td>\n",
       "      <td>533.000000</td>\n",
       "      <td>0.100000</td>\n",
       "    </tr>\n",
       "    <tr>\n",
       "      <th>max</th>\n",
       "      <td>20000.000000</td>\n",
       "      <td>1557.100000</td>\n",
       "      <td>373.150000</td>\n",
       "      <td>1764.000000</td>\n",
       "      <td>10.200000</td>\n",
       "    </tr>\n",
       "  </tbody>\n",
       "</table>\n",
       "</div>"
      ],
      "text/plain": [
       "       Pressure, kPa  Specific density, kg/m<SUP>3</SUP>  Temperature, K  \\\n",
       "count   26659.000000                        26189.000000    26659.000000   \n",
       "mean      117.687771                         1287.773426      309.576745   \n",
       "std       508.905440                          131.732158       15.635774   \n",
       "min       100.000000                          847.500000      278.150000   \n",
       "25%       101.325000                         1195.000000      298.150000   \n",
       "50%       101.325000                         1243.800000      303.150000   \n",
       "75%       101.325000                         1405.410000      318.150000   \n",
       "max     20000.000000                         1557.100000      373.150000   \n",
       "\n",
       "       Heat capacity at constant pressure, J/K/mol  Viscosity, Pa&#8226;s  \n",
       "count                                 26659.000000           25664.000000  \n",
       "mean                                    458.697542               0.086311  \n",
       "std                                     140.641191               0.160244  \n",
       "min                                     231.800000               0.003160  \n",
       "25%                                     369.900000               0.030130  \n",
       "50%                                     411.600000               0.052200  \n",
       "75%                                     533.000000               0.100000  \n",
       "max                                    1764.000000              10.200000  "
      ]
     },
     "execution_count": 39,
     "metadata": {},
     "output_type": "execute_result"
    }
   ],
   "source": [
    "total.describe()"
   ]
  },
  {
   "cell_type": "code",
   "execution_count": null,
   "metadata": {
    "collapsed": true
   },
   "outputs": [],
   "source": []
  }
 ],
 "metadata": {
  "kernelspec": {
   "display_name": "Python 3",
   "language": "python",
   "name": "python3"
  },
  "language_info": {
   "codemirror_mode": {
    "name": "ipython",
    "version": 3
   },
   "file_extension": ".py",
   "mimetype": "text/x-python",
   "name": "python",
   "nbconvert_exporter": "python",
   "pygments_lexer": "ipython3",
   "version": "3.6.0"
  }
 },
 "nbformat": 4,
 "nbformat_minor": 2
}

{
 "cells": [
  {
   "cell_type": "code",
   "execution_count": 1,
   "metadata": {},
   "outputs": [
    {
     "name": "stderr",
     "output_type": "stream",
     "text": [
      "Using TensorFlow backend.\n"
     ]
    }
   ],
   "source": [
    "import numpy as np\n",
    "import pandas as pd\n",
    "from keras.models import Sequential\n",
    "import keras\n",
    "from keras.layers import Dense\n",
    "from keras.wrappers.scikit_learn import KerasRegressor\n",
    "from sklearn.model_selection import cross_val_score\n",
    "from sklearn.model_selection import KFold\n",
    "from sklearn.preprocessing import StandardScaler\n",
    "from sklearn.pipeline import Pipeline\n",
    "from sklearn import svm\n",
    "from sklearn.metrics import mean_squared_error"
   ]
  },
  {
   "cell_type": "code",
   "execution_count": 2,
   "metadata": {},
   "outputs": [
    {
     "name": "stdout",
     "output_type": "stream",
     "text": [
      "2.7.13\n",
      "1.2.0\n"
     ]
    }
   ],
   "source": [
    "import platform\n",
    "print(platform.python_version())\n",
    "print(keras.__version__)"
   ]
  },
  {
   "cell_type": "code",
   "execution_count": 3,
   "metadata": {
    "collapsed": true
   },
   "outputs": [],
   "source": [
    "df=pd.read_csv('salts+descriptors.csv')\n",
    "df=df.drop(['salt_name','name-cation','name-anion','smiles-cation','smiles-anion'],axis=1)\n",
    "df=df.drop(df.columns[0], axis=1)\n",
    "df1=df.copy()\n",
    "dataset=df.values\n",
    "Y=dataset[:,1]\n",
    "df2=df1.drop(df1.columns[1], axis=1)\n",
    "dataset2=df2.values\n",
    "X=dataset2[:,0:]"
   ]
  },
  {
   "cell_type": "code",
   "execution_count": 4,
   "metadata": {},
   "outputs": [
    {
     "name": "stdout",
     "output_type": "stream",
     "text": [
      "____________________________________________________________________________________________________\n",
      "Layer (type)                     Output Shape          Param #     Connected to                     \n",
      "====================================================================================================\n",
      "dense_1 (Dense)                  (None, 10)            1910        dense_input_1[0][0]              \n",
      "____________________________________________________________________________________________________\n",
      "dense_2 (Dense)                  (None, 10)            110         dense_1[0][0]                    \n",
      "____________________________________________________________________________________________________\n",
      "dense_3 (Dense)                  (None, 1)             11          dense_2[0][0]                    \n",
      "====================================================================================================\n",
      "Total params: 2,031\n",
      "Trainable params: 2,031\n",
      "Non-trainable params: 0\n",
      "____________________________________________________________________________________________________\n",
      "Epoch 1/10\n",
      "25991/25991 [==============================] - 18s - loss: 323046.6494    \n",
      "Epoch 2/10\n",
      "25991/25991 [==============================] - 16s - loss: 79777.4556    - ETA: 0s - loss\n",
      "Epoch 3/10\n",
      "25991/25991 [==============================] - 16s - loss: 79120.3262    \n",
      "Epoch 4/10\n",
      "25991/25991 [==============================] - 15s - loss: 71192.4086    \n",
      "Epoch 5/10\n",
      "25991/25991 [==============================] - 15s - loss: 63812.0891    \n",
      "Epoch 6/10\n",
      "25991/25991 [==============================] - 15s - loss: 83802.2301    - ETA: 0s - loss: 83785.1\n",
      "Epoch 7/10\n",
      "25991/25991 [==============================] - 15s - loss: 62465.3417    - ETA: 0s - loss: 62788.5 - ETA: 0s - -\n",
      "Epoch 8/10\n",
      "25991/25991 [==============================] - 15s - loss: 69944.2677    \n",
      "Epoch 9/10\n",
      "25991/25991 [==============================] - 15s - loss: 89161.1588    \n",
      "Epoch 10/10\n",
      "25991/25991 [==============================] - 15s - loss: 63568.0705    - ETA: 0s - loss: 63519 - ETA: 0s -  - ETA: 0s - loss: \n",
      "CPU times: user 5min 6s, sys: 40.9 s, total: 5min 47s\n",
      "Wall time: 2min 42s\n"
     ]
    }
   ],
   "source": [
    "%%time\n",
    "model = Sequential()\n",
    "model.add(Dense(10, input_dim=X.shape[1], init='normal', activation='relu'))\n",
    "model.add(Dense(10, init='normal', activation='relu'))\n",
    "model.add(Dense(1, init='normal',activation='linear'))\n",
    "model.summary()\n",
    "# Compile model\n",
    "model.compile(loss='mean_squared_error', optimizer='adam')\n",
    "model.fit(X,Y,nb_epoch=10,batch_size=5)"
   ]
  },
  {
   "cell_type": "code",
   "execution_count": 5,
   "metadata": {},
   "outputs": [
    {
     "data": {
      "text/plain": [
       "246.02142385295369"
      ]
     },
     "execution_count": 5,
     "metadata": {},
     "output_type": "execute_result"
    }
   ],
   "source": [
    "Y_predict=model.predict(X)\n",
    "np.sqrt(mean_squared_error(Y,Y_predict))"
   ]
  },
  {
   "cell_type": "code",
   "execution_count": 6,
   "metadata": {},
   "outputs": [
    {
     "data": {
      "text/plain": [
       "0.26610048103280143"
      ]
     },
     "execution_count": 6,
     "metadata": {},
     "output_type": "execute_result"
    }
   ],
   "source": [
    "np.sum((np.mean(Y)-Y)**2)/np.sum((np.mean(Y)-Y_predict)**2)"
   ]
  },
  {
   "cell_type": "code",
   "execution_count": null,
   "metadata": {
    "collapsed": true
   },
   "outputs": [],
   "source": []
  }
 ],
 "metadata": {
  "kernelspec": {
   "display_name": "Python 2",
   "language": "python",
   "name": "python2"
  },
  "language_info": {
   "codemirror_mode": {
    "name": "ipython",
    "version": 2
   },
   "file_extension": ".py",
   "mimetype": "text/x-python",
   "name": "python",
   "nbconvert_exporter": "python",
   "pygments_lexer": "ipython2",
   "version": "2.7.13"
  }
 },
 "nbformat": 4,
 "nbformat_minor": 2
}

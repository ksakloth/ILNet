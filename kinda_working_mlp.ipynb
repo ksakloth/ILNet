{
 "cells": [
  {
   "cell_type": "code",
   "execution_count": 1,
   "metadata": {},
   "outputs": [
    {
     "name": "stderr",
     "output_type": "stream",
     "text": [
      "Using TensorFlow backend.\n"
     ]
    }
   ],
   "source": [
    "import numpy as np\n",
    "import pandas as pd\n",
    "from keras.models import Sequential\n",
    "from keras.layers import Dense\n",
    "from keras.wrappers.scikit_learn import KerasRegressor\n",
    "from sklearn.model_selection import cross_val_score\n",
    "from sklearn.model_selection import KFold\n",
    "from sklearn.preprocessing import StandardScaler\n",
    "from sklearn.pipeline import Pipeline\n",
    "from sklearn import svm\n",
    "from sklearn.metrics import mean_squared_error"
   ]
  },
  {
   "cell_type": "code",
   "execution_count": 2,
   "metadata": {
    "collapsed": true
   },
   "outputs": [],
   "source": [
    "df=pd.read_csv('salts+descriptors.csv')\n",
    "df=df.drop(['salt_name','name-cation','name-anion','smiles-cation','smiles-anion'],axis=1)\n",
    "df=df.drop(df.columns[0], axis=1)\n",
    "df1=df.copy()\n",
    "dataset=df.values\n",
    "Y=dataset[:,1]\n",
    "df2=df1.drop(df1.columns[1], axis=1)\n",
    "dataset2=df2.values\n",
    "X=dataset2[:,0:]"
   ]
  },
  {
   "cell_type": "code",
   "execution_count": 3,
   "metadata": {},
   "outputs": [
    {
     "name": "stdout",
     "output_type": "stream",
     "text": [
      "____________________________________________________________________________________________________\n",
      "Layer (type)                     Output Shape          Param #     Connected to                     \n",
      "====================================================================================================\n",
      "dense_1 (Dense)                  (None, 6)             1146        dense_input_1[0][0]              \n",
      "____________________________________________________________________________________________________\n",
      "dense_2 (Dense)                  (None, 6)             42          dense_1[0][0]                    \n",
      "____________________________________________________________________________________________________\n",
      "dense_3 (Dense)                  (None, 1)             7           dense_2[0][0]                    \n",
      "====================================================================================================\n",
      "Total params: 1,195\n",
      "Trainable params: 1,195\n",
      "Non-trainable params: 0\n",
      "____________________________________________________________________________________________________\n",
      "Epoch 1/10\n",
      "25991/25991 [==============================] - 12s - loss: 484632.9202    \n",
      "Epoch 2/10\n",
      "25991/25991 [==============================] - 4s - loss: 77784.3528     - ETA: 0s - loss: 78253.9\n",
      "Epoch 3/10\n",
      "25991/25991 [==============================] - 4s - loss: 55328.4468     - ETA: 0s - loss: 575 - ETA: 0s - loss\n",
      "Epoch 4/10\n",
      "25991/25991 [==============================] - 4s - loss: 60230.6752     \n",
      "Epoch 5/10\n",
      "25991/25991 [==============================] - 4s - loss: 49177.9193     \n",
      "Epoch 6/10\n",
      "25991/25991 [==============================] - ETA: 0s - loss: 46791.338 - 4s - loss: 46759.5866     \n",
      "Epoch 7/10\n",
      "25991/25991 [==============================] - 4s - loss: 47315.4018     \n",
      "Epoch 8/10\n",
      "25991/25991 [==============================] - 4s - loss: 45428.2577     \n",
      "Epoch 9/10\n",
      "25991/25991 [==============================] - 4s - loss: 60321.6098     \n",
      "Epoch 10/10\n",
      "25991/25991 [==============================] - 4s - loss: 57142.3424     \n"
     ]
    },
    {
     "data": {
      "text/plain": [
       "<keras.callbacks.History at 0x7f6683c3fc90>"
      ]
     },
     "execution_count": 3,
     "metadata": {},
     "output_type": "execute_result"
    }
   ],
   "source": [
    "model = Sequential()\n",
    "model.add(Dense(6, input_dim=X.shape[1], init='normal', activation='relu'))\n",
    "model.add(Dense(6, init='normal', activation='relu'))\n",
    "model.add(Dense(1, init='normal'))\n",
    "model.summary()\n",
    "# Compile model\n",
    "model.compile(loss='mean_squared_error', optimizer='adam')\n",
    "model.fit(X,Y,nb_epoch=10,batch_size=20)"
   ]
  },
  {
   "cell_type": "code",
   "execution_count": 5,
   "metadata": {},
   "outputs": [
    {
     "data": {
      "text/plain": [
       "257.80904115654624"
      ]
     },
     "execution_count": 5,
     "metadata": {},
     "output_type": "execute_result"
    }
   ],
   "source": [
    "Y_predict=model.predict(X)\n",
    "np.sqrt(mean_squared_error(Y,Y_predict))"
   ]
  },
  {
   "cell_type": "code",
   "execution_count": null,
   "metadata": {
    "collapsed": true
   },
   "outputs": [],
   "source": []
  }
 ],
 "metadata": {
  "kernelspec": {
   "display_name": "Python 2",
   "language": "python",
   "name": "python2"
  },
  "language_info": {
   "codemirror_mode": {
    "name": "ipython",
    "version": 2
   },
   "file_extension": ".py",
   "mimetype": "text/x-python",
   "name": "python",
   "nbconvert_exporter": "python",
   "pygments_lexer": "ipython2",
   "version": "2.7.13"
  }
 },
 "nbformat": 4,
 "nbformat_minor": 2
}

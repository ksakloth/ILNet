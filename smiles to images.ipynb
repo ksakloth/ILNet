{
 "cells": [
  {
   "cell_type": "code",
   "execution_count": 16,
   "metadata": {
    "collapsed": true,
    "deletable": true,
    "editable": true
   },
   "outputs": [],
   "source": [
    "import rdkit\n",
    "from rdkit import Chem\n",
    "from rdkit.Chem import Draw\n",
    "from rdkit.Chem import AllChem\n",
    "import pandas as pd\n",
    "import numpy as np"
   ]
  },
  {
   "cell_type": "code",
   "execution_count": 17,
   "metadata": {
    "collapsed": true,
    "deletable": true,
    "editable": true
   },
   "outputs": [],
   "source": [
    "df=pd.read_csv('uniqsalts+smiles.csv')\n",
    "df=df.drop('Unnamed: 0',axis=1)"
   ]
  },
  {
   "cell_type": "code",
   "execution_count": 18,
   "metadata": {
    "collapsed": true,
    "deletable": true,
    "editable": true
   },
   "outputs": [],
   "source": [
    "# generate separate NN for cation and anion and combine them at the regression neuron\n",
    "#no I've not used the external one before there's also issues whetehr ubuntu can recognize/detect the external GPU especially if their drivers is for windows, that's not going to help\n",
    "#Get the NVIDIA GeForce GTX 1080 Ti 11GB should cost $1k-$1400\n",
    "#you'll need to setup your workstation with ubuntu install drivers and all that stuff does anyone in your group have experience managing their own workstation?"
   ]
  },
  {
   "cell_type": "code",
   "execution_count": 34,
   "metadata": {
    "collapsed": true,
    "deletable": true,
    "editable": true
   },
   "outputs": [],
   "source": [
    "count=0\n",
    "for i in df.index:\n",
    "    try: \n",
    "        m=Chem.MolFromSmiles(df['cation_smiles'][i])\n",
    "        Draw.MolToFile(m,'cation_images/cation'+str(i)+'.png')\n",
    "        count+=1\n",
    "    except:\n",
    "        ValueError    "
   ]
  },
  {
   "cell_type": "code",
   "execution_count": 35,
   "metadata": {
    "collapsed": true,
    "deletable": true,
    "editable": true
   },
   "outputs": [],
   "source": [
    "count=0\n",
    "for i in df.index:\n",
    "    try:\n",
    "        m=Chem.MolFromSmiles(df['anion_smiles'][i])\n",
    "        Draw.MolToFile(m,'anion_images/anion'+str(i)+'.png')\n",
    "        count+=1\n",
    "    except:\n",
    "        ValueError"
   ]
  },
  {
   "cell_type": "code",
   "execution_count": 38,
   "metadata": {
    "collapsed": true,
    "deletable": true,
    "editable": true
   },
   "outputs": [],
   "source": [
    "#does the temp vary linearly density?\n",
    "#look at cdk /groovy, indigo for images\n",
    "#pubchem\n",
    "#rosetta toolkit"
   ]
  },
  {
   "cell_type": "code",
   "execution_count": null,
   "metadata": {
    "collapsed": true,
    "deletable": true,
    "editable": true
   },
   "outputs": [],
   "source": []
  }
 ],
 "metadata": {
  "kernelspec": {
   "display_name": "Python 3",
   "language": "python",
   "name": "python3"
  },
  "language_info": {
   "codemirror_mode": {
    "name": "ipython",
    "version": 3
   },
   "file_extension": ".py",
   "mimetype": "text/x-python",
   "name": "python",
   "nbconvert_exporter": "python",
   "pygments_lexer": "ipython3",
   "version": "3.6.0"
  }
 },
 "nbformat": 4,
 "nbformat_minor": 2
}

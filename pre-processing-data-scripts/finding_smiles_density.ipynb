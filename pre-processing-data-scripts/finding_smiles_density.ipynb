{
 "cells": [
  {
   "cell_type": "markdown",
   "metadata": {
    "deletable": true,
    "editable": true
   },
   "source": [
    "* Ionic liquids— salts that melt below the boiling point of water.   \n",
    "* Ionic liquids don't have a measurable vapor pressure at room temperature.     \n",
    "* With typical vapor pressures in the range of 10^-10 pascal (10-14 psi), ionic liquids have essentially no vapor emissions and so look like excellent candidates for \"green solvents\" to replace hazardous, air-polluting organic solvents like acetone and benzene. \n",
    "* With dozens of anions and cations to choose from, they can be tailored to specific needs and may be particularly useful as solvents for biocatalysis."
   ]
  },
  {
   "cell_type": "code",
   "execution_count": 1,
   "metadata": {
    "collapsed": false,
    "deletable": true,
    "editable": true
   },
   "outputs": [
    {
     "name": "stdout",
     "output_type": "stream",
     "text": [
      "there are 744 unique salts\n"
     ]
    }
   ],
   "source": [
    "import pandas as pd\n",
    "import numpy as np\n",
    "import salty\n",
    "from salty import check_name\n",
    "import pickle\n",
    "\n",
    "density_all=pd.read_csv('density.csv') #all 30k data\n",
    "d2=density_all\n",
    "density_all=density_all.drop(['Molar volume, m<SUP>3</SUP>/mol','Specific volume, m<SUP>3</SUP>/kg'],axis=1)\n",
    "salts=np.array(density_all.salt_name)\n",
    "unique_salts=np.unique(salts)\n",
    "len(unique_salts)\n",
    "print('there are '+str(len(unique_salts)) + ' unique salts')"
   ]
  },
  {
   "cell_type": "markdown",
   "metadata": {
    "deletable": true,
    "editable": true
   },
   "source": [
    "#### Database ~30,000 out of which 744 salts are unique, the rest are repeated at different Temperatures and Pressures"
   ]
  },
  {
   "cell_type": "code",
   "execution_count": 2,
   "metadata": {
    "collapsed": false,
    "deletable": true,
    "editable": true
   },
   "outputs": [
    {
     "name": "stdout",
     "output_type": "stream",
     "text": [
      "There are 668 salts of 1 each\n",
      "There are 72 salts of 2 cations/1anion or 2 anions/1 cation each\n",
      "There are 1 salts of 2 each\n",
      "There are 3 salts of 2 or more each\n"
     ]
    }
   ],
   "source": [
    "salts=[]\n",
    "two=[]\n",
    "three=[]\n",
    "four=[]\n",
    "more=[]\n",
    "for i in unique_salts:\n",
    "    A=i.split()              #sorting 2,3,4 and more ions into separate lists\n",
    "    if len(A)==2:\n",
    "        two.append(A)\n",
    "    elif len(A)==3:\n",
    "        three.append(A)\n",
    "    elif len(A)==4:\n",
    "        four.append(A)\n",
    "    else:\n",
    "        more.append(A)\n",
    "\n",
    "print('There are '+ str(len(two))+' salts of 1 each') #looks fine and clean\n",
    "print('There are '+ str(len(three))+' salts of 2 cations/1anion or 2 anions/1 cation each') #confirm which belongs to what\n",
    "print('There are '+ str(len(four))+' salts of 2 each')\n",
    "print('There are '+ str(len(more))+' salts of 2 or more each')"
   ]
  },
  {
   "cell_type": "markdown",
   "metadata": {
    "deletable": true,
    "editable": true
   },
   "source": [
    "### Using salty to generate smiles for salts with 1 cation and 1 anion each"
   ]
  },
  {
   "cell_type": "code",
   "execution_count": 3,
   "metadata": {
    "collapsed": false,
    "deletable": true,
    "editable": true
   },
   "outputs": [
    {
     "name": "stdout",
     "output_type": "stream",
     "text": [
      "There are 48 unique missing anions from the data base\n",
      "There are 141 unique missing cations from the data base\n"
     ]
    }
   ],
   "source": [
    "cation2=[]\n",
    "anion2=[]\n",
    "cation2_smiles=[]\n",
    "anion2_smiles=[]\n",
    "error2_anion=[]\n",
    "error2_cation=[]\n",
    "\n",
    "for i in two:\n",
    "    cation2.append(i[0])\n",
    "    anion2.append(i[1])\n",
    "\n",
    "for i in cation2:\n",
    "    #print(i)\n",
    "    try:\n",
    "        check_name(i)\n",
    "        cation2_smiles.append(check_name(i))\n",
    "    except:\n",
    "        UnboundLocalError\n",
    "        error2_cation.append(i)\n",
    "        \n",
    "for i in anion2:   #CHECKing CHECK_NAME FUNC FOR MISSING ANION OR CATION\n",
    "    #print(i)\n",
    "    try:\n",
    "        check_name(i)\n",
    "        anion2_smiles.append(check_name(i))\n",
    "    except:\n",
    "        UnboundLocalError\n",
    "        error2_anion.append(i)\n",
    "        #print(i)\n",
    "\n",
    "print('There are '+ str(len(set(error2_anion)))+' unique missing anions from the data base')\n",
    "#print(error2_anion)\n",
    "print('There are '+ str(len(set(error2_cation)))+ ' unique missing cations from the data base')\n",
    "#len(set(error2_anion))\n",
    "#print(len(cation2))\n",
    "#print(len(anion2))\n",
    "#print(len(anion2_smiles))"
   ]
  },
  {
   "cell_type": "markdown",
   "metadata": {
    "deletable": true,
    "editable": true
   },
   "source": [
    "#### add these missing ions into db(future work)"
   ]
  },
  {
   "cell_type": "markdown",
   "metadata": {
    "deletable": true,
    "editable": true
   },
   "source": [
    "#### making a db for just smiles and 1cat/1an names for cnns, saving it in uniqsalts+smiles.csv"
   ]
  },
  {
   "cell_type": "code",
   "execution_count": 17,
   "metadata": {
    "collapsed": false,
    "deletable": true,
    "editable": true
   },
   "outputs": [
    {
     "name": "stdout",
     "output_type": "stream",
     "text": [
      "(668, 4)\n"
     ]
    }
   ],
   "source": [
    "df = pd.DataFrame({'cation':cation2,'anion':anion2,'cation_smiles':np.nan,'anion_smiles':np.nan})\n",
    "for i in df.index:\n",
    "    try:\n",
    "        p=check_name(df['cation'][i])\n",
    "        df.loc[i,'cation_smiles']=p\n",
    "    except:\n",
    "        UnboundLocalError\n",
    "for i in df.index:\n",
    "    try:\n",
    "        p=check_name(df['anion'][i])\n",
    "        df.loc[i,'anion_smiles']=p\n",
    "    except:\n",
    "        UnboundLocalError    \n",
    "print(df.shape)"
   ]
  },
  {
   "cell_type": "code",
   "execution_count": 18,
   "metadata": {
    "collapsed": false,
    "deletable": true,
    "editable": true
   },
   "outputs": [
    {
     "name": "stdout",
     "output_type": "stream",
     "text": [
      "Removing 221 rows\n",
      "(447, 4)\n"
     ]
    }
   ],
   "source": [
    "nan_rows = df[df.isnull().T.any().T]\n",
    "print('Removing '+str(nan_rows.shape[0]) +' rows')\n",
    "df=df.dropna()\n",
    "print(df.shape)\n",
    "df.to_csv('uniqsalts+smiles+density.csv')"
   ]
  },
  {
   "cell_type": "markdown",
   "metadata": {
    "deletable": true,
    "editable": true
   },
   "source": [
    "### Handling two word anions "
   ]
  },
  {
   "cell_type": "code",
   "execution_count": 4,
   "metadata": {
    "collapsed": false,
    "deletable": true,
    "editable": true
   },
   "outputs": [
    {
     "name": "stdout",
     "output_type": "stream",
     "text": [
      "handling 60 out of 72\n"
     ]
    }
   ],
   "source": [
    "anion3=[]  #handling 2 word anions\n",
    "cation3=[] \n",
    "count=0\n",
    "for i in three:\n",
    "    if 'sulfate' in i:\n",
    "        anion3.append(i[1]+' '+i[2])\n",
    "        cation3.append(i[0])\n",
    "        count+=1\n",
    "    elif 'phosphate' in i:\n",
    "        anion3.append(i[1]+' '+i[2])\n",
    "        cation3.append(i[0])\n",
    "        count+=1\n",
    "    elif 'phosphonate' in i:\n",
    "        anion3.append(i[1]+' '+i[2])\n",
    "        cation3.append(i[0])\n",
    "        count+=1\n",
    "    elif 'carbonate' in i:\n",
    "        anion3.append(i[1]+' '+i[2])\n",
    "        cation3.append(i[0])\n",
    "        count+=1\n",
    "\n",
    "print('handling '+ str(count)+ ' out of '+str(len(three)))"
   ]
  },
  {
   "cell_type": "code",
   "execution_count": 5,
   "metadata": {
    "collapsed": false,
    "deletable": true,
    "editable": true
   },
   "outputs": [
    {
     "name": "stdout",
     "output_type": "stream",
     "text": [
      "There are 2 unique missing anions from the data base\n",
      "There are 19 unique missing cations from the data base\n"
     ]
    }
   ],
   "source": [
    "for n,i in enumerate(anion3): #fixing the space to make it compatible with database\n",
    "    if i=='diethyl phosphate':\n",
    "        anion3[n]='diethylphosphate'\n",
    "    elif i=='dimethyl phosphate':\n",
    "        anion3[n]='dimethylphosphate'\n",
    "\n",
    "\n",
    "error3_anion=[]\n",
    "for i in anion3:\n",
    "        try:\n",
    "            check_name(i)\n",
    "        except:\n",
    "            UnboundLocalError\n",
    "            error3_anion.append(i)\n",
    "\n",
    "error3_cation=[]\n",
    "for i in cation3:\n",
    "        try:\n",
    "            check_name(i)\n",
    "        except:\n",
    "            UnboundLocalError\n",
    "            error3_cation.append(i)\n",
    "\n",
    "\n",
    "\n",
    "print('There are '+ str(len(set(error3_anion)))+ ' unique missing anions from the data base')\n",
    "#error3_anion\n",
    "print('There are '+ str(len(set(error3_cation)))+ ' unique missing cations from the data base')\n",
    "#error3_cation"
   ]
  },
  {
   "cell_type": "markdown",
   "metadata": {
    "deletable": true,
    "editable": true
   },
   "source": [
    "### Combining descriptors with the salts to 1 database"
   ]
  },
  {
   "cell_type": "code",
   "execution_count": 6,
   "metadata": {
    "collapsed": true,
    "deletable": true,
    "editable": true
   },
   "outputs": [],
   "source": [
    "for i in d2.index:\n",
    "    A=d2['salt_name'][i].split()\n",
    "    if len(A)==2:\n",
    "        pass\n",
    "    else:\n",
    "        d2.drop(i,axis=0,inplace=True)\n",
    "d2=d2.drop(['Molar volume, m<SUP>3</SUP>/mol','Specific volume, m<SUP>3</SUP>/kg'],axis=1)"
   ]
  },
  {
   "cell_type": "code",
   "execution_count": 7,
   "metadata": {
    "collapsed": true,
    "deletable": true,
    "editable": true
   },
   "outputs": [],
   "source": [
    "cationDescriptors = salty.load_data(\"cationDescriptors.csv\")\n",
    "cationDescriptors.columns = [str(col) + '-cation' for col in cationDescriptors.columns]\n",
    "anionDescriptors = salty.load_data(\"anionDescriptors.csv\")\n",
    "anionDescriptors.columns = [str(col) + '-anion' for col in anionDescriptors.columns]"
   ]
  },
  {
   "cell_type": "code",
   "execution_count": 8,
   "metadata": {
    "collapsed": false,
    "deletable": true,
    "editable": true,
    "scrolled": true
   },
   "outputs": [
    {
     "name": "stdout",
     "output_type": "stream",
     "text": [
      "(26317, 196)\n"
     ]
    },
    {
     "data": {
      "text/html": [
       "<div>\n",
       "<table border=\"1\" class=\"dataframe\">\n",
       "  <thead>\n",
       "    <tr style=\"text-align: right;\">\n",
       "      <th></th>\n",
       "      <th>Pressure, kPa</th>\n",
       "      <th>Specific density, kg/m&lt;SUP&gt;3&lt;/SUP&gt;</th>\n",
       "      <th>Temperature, K</th>\n",
       "      <th>salt_name</th>\n",
       "      <th>name-cation</th>\n",
       "      <th>name-anion</th>\n",
       "      <th>smiles-cation</th>\n",
       "      <th>steiger-cation</th>\n",
       "      <th>Marsili Partial Charges-cation</th>\n",
       "      <th>BalabanJ-cation</th>\n",
       "      <th>...</th>\n",
       "      <th>VSA_EState2-anion</th>\n",
       "      <th>VSA_EState3-anion</th>\n",
       "      <th>VSA_EState4-anion</th>\n",
       "      <th>VSA_EState5-anion</th>\n",
       "      <th>VSA_EState6-anion</th>\n",
       "      <th>VSA_EState7-anion</th>\n",
       "      <th>VSA_EState8-anion</th>\n",
       "      <th>VSA_EState9-anion</th>\n",
       "      <th>VSA_EState10-anion</th>\n",
       "      <th>Topliss fragments-anion</th>\n",
       "    </tr>\n",
       "  </thead>\n",
       "  <tbody>\n",
       "    <tr>\n",
       "      <th>0</th>\n",
       "      <td>101.325</td>\n",
       "      <td>899.10</td>\n",
       "      <td>298.15</td>\n",
       "      <td>tetradecyl(trihexyl)phosphonium dicyanamide</td>\n",
       "      <td>tetradecyl(trihexyl)phosphonium</td>\n",
       "      <td>dicyanamide</td>\n",
       "      <td>C(CCCCCCCC[P+](CCCCCC)(CCCCCC)CCCCCC)CCCCC</td>\n",
       "      <td>777.0</td>\n",
       "      <td>777.0</td>\n",
       "      <td>4.337445</td>\n",
       "      <td>...</td>\n",
       "      <td>0.0</td>\n",
       "      <td>0.0</td>\n",
       "      <td>0.0</td>\n",
       "      <td>0.0</td>\n",
       "      <td>0.0</td>\n",
       "      <td>0.0</td>\n",
       "      <td>0.0</td>\n",
       "      <td>20.0</td>\n",
       "      <td>0.0</td>\n",
       "      <td>777.0</td>\n",
       "    </tr>\n",
       "    <tr>\n",
       "      <th>1</th>\n",
       "      <td>100.000</td>\n",
       "      <td>897.36</td>\n",
       "      <td>298.15</td>\n",
       "      <td>tetradecyl(trihexyl)phosphonium dicyanamide</td>\n",
       "      <td>tetradecyl(trihexyl)phosphonium</td>\n",
       "      <td>dicyanamide</td>\n",
       "      <td>C(CCCCCCCC[P+](CCCCCC)(CCCCCC)CCCCCC)CCCCC</td>\n",
       "      <td>777.0</td>\n",
       "      <td>777.0</td>\n",
       "      <td>4.337445</td>\n",
       "      <td>...</td>\n",
       "      <td>0.0</td>\n",
       "      <td>0.0</td>\n",
       "      <td>0.0</td>\n",
       "      <td>0.0</td>\n",
       "      <td>0.0</td>\n",
       "      <td>0.0</td>\n",
       "      <td>0.0</td>\n",
       "      <td>20.0</td>\n",
       "      <td>0.0</td>\n",
       "      <td>777.0</td>\n",
       "    </tr>\n",
       "    <tr>\n",
       "      <th>2</th>\n",
       "      <td>101.325</td>\n",
       "      <td>903.40</td>\n",
       "      <td>288.15</td>\n",
       "      <td>tetradecyl(trihexyl)phosphonium dicyanamide</td>\n",
       "      <td>tetradecyl(trihexyl)phosphonium</td>\n",
       "      <td>dicyanamide</td>\n",
       "      <td>C(CCCCCCCC[P+](CCCCCC)(CCCCCC)CCCCCC)CCCCC</td>\n",
       "      <td>777.0</td>\n",
       "      <td>777.0</td>\n",
       "      <td>4.337445</td>\n",
       "      <td>...</td>\n",
       "      <td>0.0</td>\n",
       "      <td>0.0</td>\n",
       "      <td>0.0</td>\n",
       "      <td>0.0</td>\n",
       "      <td>0.0</td>\n",
       "      <td>0.0</td>\n",
       "      <td>0.0</td>\n",
       "      <td>20.0</td>\n",
       "      <td>0.0</td>\n",
       "      <td>777.0</td>\n",
       "    </tr>\n",
       "    <tr>\n",
       "      <th>3</th>\n",
       "      <td>101.325</td>\n",
       "      <td>897.60</td>\n",
       "      <td>298.15</td>\n",
       "      <td>tetradecyl(trihexyl)phosphonium dicyanamide</td>\n",
       "      <td>tetradecyl(trihexyl)phosphonium</td>\n",
       "      <td>dicyanamide</td>\n",
       "      <td>C(CCCCCCCC[P+](CCCCCC)(CCCCCC)CCCCCC)CCCCC</td>\n",
       "      <td>777.0</td>\n",
       "      <td>777.0</td>\n",
       "      <td>4.337445</td>\n",
       "      <td>...</td>\n",
       "      <td>0.0</td>\n",
       "      <td>0.0</td>\n",
       "      <td>0.0</td>\n",
       "      <td>0.0</td>\n",
       "      <td>0.0</td>\n",
       "      <td>0.0</td>\n",
       "      <td>0.0</td>\n",
       "      <td>20.0</td>\n",
       "      <td>0.0</td>\n",
       "      <td>777.0</td>\n",
       "    </tr>\n",
       "    <tr>\n",
       "      <th>4</th>\n",
       "      <td>101.325</td>\n",
       "      <td>891.90</td>\n",
       "      <td>308.15</td>\n",
       "      <td>tetradecyl(trihexyl)phosphonium dicyanamide</td>\n",
       "      <td>tetradecyl(trihexyl)phosphonium</td>\n",
       "      <td>dicyanamide</td>\n",
       "      <td>C(CCCCCCCC[P+](CCCCCC)(CCCCCC)CCCCCC)CCCCC</td>\n",
       "      <td>777.0</td>\n",
       "      <td>777.0</td>\n",
       "      <td>4.337445</td>\n",
       "      <td>...</td>\n",
       "      <td>0.0</td>\n",
       "      <td>0.0</td>\n",
       "      <td>0.0</td>\n",
       "      <td>0.0</td>\n",
       "      <td>0.0</td>\n",
       "      <td>0.0</td>\n",
       "      <td>0.0</td>\n",
       "      <td>20.0</td>\n",
       "      <td>0.0</td>\n",
       "      <td>777.0</td>\n",
       "    </tr>\n",
       "  </tbody>\n",
       "</table>\n",
       "<p>5 rows × 196 columns</p>\n",
       "</div>"
      ],
      "text/plain": [
       "   Pressure, kPa  Specific density, kg/m<SUP>3</SUP>  Temperature, K  \\\n",
       "0        101.325                              899.10          298.15   \n",
       "1        100.000                              897.36          298.15   \n",
       "2        101.325                              903.40          288.15   \n",
       "3        101.325                              897.60          298.15   \n",
       "4        101.325                              891.90          308.15   \n",
       "\n",
       "                                     salt_name  \\\n",
       "0  tetradecyl(trihexyl)phosphonium dicyanamide   \n",
       "1  tetradecyl(trihexyl)phosphonium dicyanamide   \n",
       "2  tetradecyl(trihexyl)phosphonium dicyanamide   \n",
       "3  tetradecyl(trihexyl)phosphonium dicyanamide   \n",
       "4  tetradecyl(trihexyl)phosphonium dicyanamide   \n",
       "\n",
       "                       name-cation   name-anion  \\\n",
       "0  tetradecyl(trihexyl)phosphonium  dicyanamide   \n",
       "1  tetradecyl(trihexyl)phosphonium  dicyanamide   \n",
       "2  tetradecyl(trihexyl)phosphonium  dicyanamide   \n",
       "3  tetradecyl(trihexyl)phosphonium  dicyanamide   \n",
       "4  tetradecyl(trihexyl)phosphonium  dicyanamide   \n",
       "\n",
       "                                smiles-cation  steiger-cation  \\\n",
       "0  C(CCCCCCCC[P+](CCCCCC)(CCCCCC)CCCCCC)CCCCC           777.0   \n",
       "1  C(CCCCCCCC[P+](CCCCCC)(CCCCCC)CCCCCC)CCCCC           777.0   \n",
       "2  C(CCCCCCCC[P+](CCCCCC)(CCCCCC)CCCCCC)CCCCC           777.0   \n",
       "3  C(CCCCCCCC[P+](CCCCCC)(CCCCCC)CCCCCC)CCCCC           777.0   \n",
       "4  C(CCCCCCCC[P+](CCCCCC)(CCCCCC)CCCCCC)CCCCC           777.0   \n",
       "\n",
       "   Marsili Partial Charges-cation  BalabanJ-cation           ...             \\\n",
       "0                           777.0         4.337445           ...              \n",
       "1                           777.0         4.337445           ...              \n",
       "2                           777.0         4.337445           ...              \n",
       "3                           777.0         4.337445           ...              \n",
       "4                           777.0         4.337445           ...              \n",
       "\n",
       "   VSA_EState2-anion  VSA_EState3-anion  VSA_EState4-anion  VSA_EState5-anion  \\\n",
       "0                0.0                0.0                0.0                0.0   \n",
       "1                0.0                0.0                0.0                0.0   \n",
       "2                0.0                0.0                0.0                0.0   \n",
       "3                0.0                0.0                0.0                0.0   \n",
       "4                0.0                0.0                0.0                0.0   \n",
       "\n",
       "   VSA_EState6-anion  VSA_EState7-anion  VSA_EState8-anion  VSA_EState9-anion  \\\n",
       "0                0.0                0.0                0.0               20.0   \n",
       "1                0.0                0.0                0.0               20.0   \n",
       "2                0.0                0.0                0.0               20.0   \n",
       "3                0.0                0.0                0.0               20.0   \n",
       "4                0.0                0.0                0.0               20.0   \n",
       "\n",
       "   VSA_EState10-anion  Topliss fragments-anion  \n",
       "0                 0.0                    777.0  \n",
       "1                 0.0                    777.0  \n",
       "2                 0.0                    777.0  \n",
       "3                 0.0                    777.0  \n",
       "4                 0.0                    777.0  \n",
       "\n",
       "[5 rows x 196 columns]"
      ]
     },
     "execution_count": 8,
     "metadata": {},
     "output_type": "execute_result"
    }
   ],
   "source": [
    "c=[]\n",
    "a=[]\n",
    "for i in d2.index:\n",
    "    c1,a1=d2['salt_name'][i].split()\n",
    "    c.append(c1)\n",
    "    a.append(a1)\n",
    "d2['name-cation']=c  \n",
    "d2['name-anion']=a\n",
    "d3=pd.merge(d2,cationDescriptors,on=\"name-cation\", how=\"inner\")\n",
    "d4=pd.merge(d3,anionDescriptors,on='name-anion',how=\"inner\")\n",
    "print(d4.shape)\n",
    "d4.head()"
   ]
  },
  {
   "cell_type": "markdown",
   "metadata": {
    "deletable": true,
    "editable": true
   },
   "source": [
    "### Removing rows with NA values for density"
   ]
  },
  {
   "cell_type": "code",
   "execution_count": 9,
   "metadata": {
    "collapsed": false,
    "deletable": true,
    "editable": true
   },
   "outputs": [
    {
     "name": "stdout",
     "output_type": "stream",
     "text": [
      "Removing 326 rows\n",
      "Final Shape: (25991, 196)\n"
     ]
    }
   ],
   "source": [
    "nan_rows = d4[d4.isnull().T.any().T]\n",
    "print('Removing '+str(nan_rows.shape[0]) +' rows')\n",
    "d4=d4.dropna()\n",
    "d4.shape\n",
    "d4.to_csv(\"salts+descriptors+density.csv\")\n",
    "print('Final Shape: '+str(d4.shape))"
   ]
  },
  {
   "cell_type": "code",
   "execution_count": 10,
   "metadata": {
    "collapsed": false,
    "deletable": true,
    "editable": true
   },
   "outputs": [
    {
     "data": {
      "text/plain": [
       "(25215, 196)"
      ]
     },
     "execution_count": 10,
     "metadata": {},
     "output_type": "execute_result"
    }
   ],
   "source": [
    "d4.drop_duplicates(keep='first').shape"
   ]
  },
  {
   "cell_type": "code",
   "execution_count": 11,
   "metadata": {
    "collapsed": false,
    "deletable": true,
    "editable": true
   },
   "outputs": [
    {
     "data": {
      "text/html": [
       "<div>\n",
       "<table border=\"1\" class=\"dataframe\">\n",
       "  <thead>\n",
       "    <tr style=\"text-align: right;\">\n",
       "      <th></th>\n",
       "      <th>Pressure, kPa</th>\n",
       "      <th>Specific density, kg/m&lt;SUP&gt;3&lt;/SUP&gt;</th>\n",
       "      <th>Temperature, K</th>\n",
       "      <th>steiger-cation</th>\n",
       "      <th>Marsili Partial Charges-cation</th>\n",
       "      <th>BalabanJ-cation</th>\n",
       "      <th>BertzCT-cation</th>\n",
       "      <th>Ipc-cation</th>\n",
       "      <th>HallKierAlpha-cation</th>\n",
       "      <th>Kappa1-cation</th>\n",
       "      <th>...</th>\n",
       "      <th>VSA_EState2-anion</th>\n",
       "      <th>VSA_EState3-anion</th>\n",
       "      <th>VSA_EState4-anion</th>\n",
       "      <th>VSA_EState5-anion</th>\n",
       "      <th>VSA_EState6-anion</th>\n",
       "      <th>VSA_EState7-anion</th>\n",
       "      <th>VSA_EState8-anion</th>\n",
       "      <th>VSA_EState9-anion</th>\n",
       "      <th>VSA_EState10-anion</th>\n",
       "      <th>Topliss fragments-anion</th>\n",
       "    </tr>\n",
       "  </thead>\n",
       "  <tbody>\n",
       "    <tr>\n",
       "      <th>count</th>\n",
       "      <td>25991.000000</td>\n",
       "      <td>25991.000000</td>\n",
       "      <td>25991.000000</td>\n",
       "      <td>25991.0</td>\n",
       "      <td>25991.0</td>\n",
       "      <td>25991.000000</td>\n",
       "      <td>25991.000000</td>\n",
       "      <td>2.599100e+04</td>\n",
       "      <td>25991.000000</td>\n",
       "      <td>25991.000000</td>\n",
       "      <td>...</td>\n",
       "      <td>25991.0</td>\n",
       "      <td>25991.0</td>\n",
       "      <td>25991.0</td>\n",
       "      <td>25991.0</td>\n",
       "      <td>25991.0</td>\n",
       "      <td>25991.0</td>\n",
       "      <td>25991.000000</td>\n",
       "      <td>25991.000000</td>\n",
       "      <td>25991.000000</td>\n",
       "      <td>25991.0</td>\n",
       "    </tr>\n",
       "    <tr>\n",
       "      <th>mean</th>\n",
       "      <td>18375.956244</td>\n",
       "      <td>1227.093166</td>\n",
       "      <td>324.836412</td>\n",
       "      <td>777.0</td>\n",
       "      <td>777.0</td>\n",
       "      <td>2.575698</td>\n",
       "      <td>183.084008</td>\n",
       "      <td>8.973426e+05</td>\n",
       "      <td>-0.601849</td>\n",
       "      <td>9.399780</td>\n",
       "      <td>...</td>\n",
       "      <td>0.0</td>\n",
       "      <td>0.0</td>\n",
       "      <td>0.0</td>\n",
       "      <td>0.0</td>\n",
       "      <td>0.0</td>\n",
       "      <td>0.0</td>\n",
       "      <td>55.863630</td>\n",
       "      <td>-3.083439</td>\n",
       "      <td>-4.235906</td>\n",
       "      <td>777.0</td>\n",
       "    </tr>\n",
       "    <tr>\n",
       "      <th>std</th>\n",
       "      <td>36332.272620</td>\n",
       "      <td>170.698953</td>\n",
       "      <td>35.222623</td>\n",
       "      <td>0.0</td>\n",
       "      <td>0.0</td>\n",
       "      <td>0.576401</td>\n",
       "      <td>74.246881</td>\n",
       "      <td>5.331852e+06</td>\n",
       "      <td>0.407139</td>\n",
       "      <td>6.654011</td>\n",
       "      <td>...</td>\n",
       "      <td>0.0</td>\n",
       "      <td>0.0</td>\n",
       "      <td>0.0</td>\n",
       "      <td>0.0</td>\n",
       "      <td>0.0</td>\n",
       "      <td>0.0</td>\n",
       "      <td>52.838949</td>\n",
       "      <td>18.186569</td>\n",
       "      <td>6.242559</td>\n",
       "      <td>0.0</td>\n",
       "    </tr>\n",
       "    <tr>\n",
       "      <th>min</th>\n",
       "      <td>86.500000</td>\n",
       "      <td>841.300000</td>\n",
       "      <td>217.577000</td>\n",
       "      <td>777.0</td>\n",
       "      <td>777.0</td>\n",
       "      <td>1.000000</td>\n",
       "      <td>2.000000</td>\n",
       "      <td>2.000000e+00</td>\n",
       "      <td>-2.080000</td>\n",
       "      <td>1.960000</td>\n",
       "      <td>...</td>\n",
       "      <td>0.0</td>\n",
       "      <td>0.0</td>\n",
       "      <td>0.0</td>\n",
       "      <td>0.0</td>\n",
       "      <td>0.0</td>\n",
       "      <td>0.0</td>\n",
       "      <td>0.000000</td>\n",
       "      <td>-70.380285</td>\n",
       "      <td>-15.239861</td>\n",
       "      <td>777.0</td>\n",
       "    </tr>\n",
       "    <tr>\n",
       "      <th>25%</th>\n",
       "      <td>101.325000</td>\n",
       "      <td>1091.265000</td>\n",
       "      <td>299.650000</td>\n",
       "      <td>777.0</td>\n",
       "      <td>777.0</td>\n",
       "      <td>2.190610</td>\n",
       "      <td>166.791393</td>\n",
       "      <td>1.305735e+02</td>\n",
       "      <td>-0.790000</td>\n",
       "      <td>6.331803</td>\n",
       "      <td>...</td>\n",
       "      <td>0.0</td>\n",
       "      <td>0.0</td>\n",
       "      <td>0.0</td>\n",
       "      <td>0.0</td>\n",
       "      <td>0.0</td>\n",
       "      <td>0.0</td>\n",
       "      <td>0.000000</td>\n",
       "      <td>-12.406111</td>\n",
       "      <td>-13.443056</td>\n",
       "      <td>777.0</td>\n",
       "    </tr>\n",
       "    <tr>\n",
       "      <th>50%</th>\n",
       "      <td>101.325000</td>\n",
       "      <td>1212.000000</td>\n",
       "      <td>318.150000</td>\n",
       "      <td>777.0</td>\n",
       "      <td>777.0</td>\n",
       "      <td>2.422978</td>\n",
       "      <td>190.892591</td>\n",
       "      <td>2.567231e+02</td>\n",
       "      <td>-0.790000</td>\n",
       "      <td>7.318578</td>\n",
       "      <td>...</td>\n",
       "      <td>0.0</td>\n",
       "      <td>0.0</td>\n",
       "      <td>0.0</td>\n",
       "      <td>0.0</td>\n",
       "      <td>0.0</td>\n",
       "      <td>0.0</td>\n",
       "      <td>39.000000</td>\n",
       "      <td>-6.000000</td>\n",
       "      <td>0.000000</td>\n",
       "      <td>777.0</td>\n",
       "    </tr>\n",
       "    <tr>\n",
       "      <th>75%</th>\n",
       "      <td>20000.000000</td>\n",
       "      <td>1363.300000</td>\n",
       "      <td>338.150000</td>\n",
       "      <td>777.0</td>\n",
       "      <td>777.0</td>\n",
       "      <td>2.837541</td>\n",
       "      <td>215.368085</td>\n",
       "      <td>7.117488e+02</td>\n",
       "      <td>-0.790000</td>\n",
       "      <td>9.299206</td>\n",
       "      <td>...</td>\n",
       "      <td>0.0</td>\n",
       "      <td>0.0</td>\n",
       "      <td>0.0</td>\n",
       "      <td>0.0</td>\n",
       "      <td>0.0</td>\n",
       "      <td>0.0</td>\n",
       "      <td>109.182500</td>\n",
       "      <td>8.353739</td>\n",
       "      <td>0.000000</td>\n",
       "      <td>777.0</td>\n",
       "    </tr>\n",
       "    <tr>\n",
       "      <th>max</th>\n",
       "      <td>300000.000000</td>\n",
       "      <td>1741.500000</td>\n",
       "      <td>473.150000</td>\n",
       "      <td>777.0</td>\n",
       "      <td>777.0</td>\n",
       "      <td>4.739991</td>\n",
       "      <td>525.851293</td>\n",
       "      <td>1.936978e+08</td>\n",
       "      <td>0.430000</td>\n",
       "      <td>33.430000</td>\n",
       "      <td>...</td>\n",
       "      <td>0.0</td>\n",
       "      <td>0.0</td>\n",
       "      <td>0.0</td>\n",
       "      <td>0.0</td>\n",
       "      <td>0.0</td>\n",
       "      <td>0.0</td>\n",
       "      <td>222.417323</td>\n",
       "      <td>45.366093</td>\n",
       "      <td>17.194444</td>\n",
       "      <td>777.0</td>\n",
       "    </tr>\n",
       "  </tbody>\n",
       "</table>\n",
       "<p>8 rows × 191 columns</p>\n",
       "</div>"
      ],
      "text/plain": [
       "       Pressure, kPa  Specific density, kg/m<SUP>3</SUP>  Temperature, K  \\\n",
       "count   25991.000000                        25991.000000    25991.000000   \n",
       "mean    18375.956244                         1227.093166      324.836412   \n",
       "std     36332.272620                          170.698953       35.222623   \n",
       "min        86.500000                          841.300000      217.577000   \n",
       "25%       101.325000                         1091.265000      299.650000   \n",
       "50%       101.325000                         1212.000000      318.150000   \n",
       "75%     20000.000000                         1363.300000      338.150000   \n",
       "max    300000.000000                         1741.500000      473.150000   \n",
       "\n",
       "       steiger-cation  Marsili Partial Charges-cation  BalabanJ-cation  \\\n",
       "count         25991.0                         25991.0     25991.000000   \n",
       "mean            777.0                           777.0         2.575698   \n",
       "std               0.0                             0.0         0.576401   \n",
       "min             777.0                           777.0         1.000000   \n",
       "25%             777.0                           777.0         2.190610   \n",
       "50%             777.0                           777.0         2.422978   \n",
       "75%             777.0                           777.0         2.837541   \n",
       "max             777.0                           777.0         4.739991   \n",
       "\n",
       "       BertzCT-cation    Ipc-cation  HallKierAlpha-cation  Kappa1-cation  \\\n",
       "count    25991.000000  2.599100e+04          25991.000000   25991.000000   \n",
       "mean       183.084008  8.973426e+05             -0.601849       9.399780   \n",
       "std         74.246881  5.331852e+06              0.407139       6.654011   \n",
       "min          2.000000  2.000000e+00             -2.080000       1.960000   \n",
       "25%        166.791393  1.305735e+02             -0.790000       6.331803   \n",
       "50%        190.892591  2.567231e+02             -0.790000       7.318578   \n",
       "75%        215.368085  7.117488e+02             -0.790000       9.299206   \n",
       "max        525.851293  1.936978e+08              0.430000      33.430000   \n",
       "\n",
       "                ...             VSA_EState2-anion  VSA_EState3-anion  \\\n",
       "count           ...                       25991.0            25991.0   \n",
       "mean            ...                           0.0                0.0   \n",
       "std             ...                           0.0                0.0   \n",
       "min             ...                           0.0                0.0   \n",
       "25%             ...                           0.0                0.0   \n",
       "50%             ...                           0.0                0.0   \n",
       "75%             ...                           0.0                0.0   \n",
       "max             ...                           0.0                0.0   \n",
       "\n",
       "       VSA_EState4-anion  VSA_EState5-anion  VSA_EState6-anion  \\\n",
       "count            25991.0            25991.0            25991.0   \n",
       "mean                 0.0                0.0                0.0   \n",
       "std                  0.0                0.0                0.0   \n",
       "min                  0.0                0.0                0.0   \n",
       "25%                  0.0                0.0                0.0   \n",
       "50%                  0.0                0.0                0.0   \n",
       "75%                  0.0                0.0                0.0   \n",
       "max                  0.0                0.0                0.0   \n",
       "\n",
       "       VSA_EState7-anion  VSA_EState8-anion  VSA_EState9-anion  \\\n",
       "count            25991.0       25991.000000       25991.000000   \n",
       "mean                 0.0          55.863630          -3.083439   \n",
       "std                  0.0          52.838949          18.186569   \n",
       "min                  0.0           0.000000         -70.380285   \n",
       "25%                  0.0           0.000000         -12.406111   \n",
       "50%                  0.0          39.000000          -6.000000   \n",
       "75%                  0.0         109.182500           8.353739   \n",
       "max                  0.0         222.417323          45.366093   \n",
       "\n",
       "       VSA_EState10-anion  Topliss fragments-anion  \n",
       "count        25991.000000                  25991.0  \n",
       "mean            -4.235906                    777.0  \n",
       "std              6.242559                      0.0  \n",
       "min            -15.239861                    777.0  \n",
       "25%            -13.443056                    777.0  \n",
       "50%              0.000000                    777.0  \n",
       "75%              0.000000                    777.0  \n",
       "max             17.194444                    777.0  \n",
       "\n",
       "[8 rows x 191 columns]"
      ]
     },
     "execution_count": 11,
     "metadata": {},
     "output_type": "execute_result"
    }
   ],
   "source": [
    "d4.describe()"
   ]
  },
  {
   "cell_type": "code",
   "execution_count": null,
   "metadata": {
    "collapsed": true,
    "deletable": true,
    "editable": true
   },
   "outputs": [],
   "source": []
  }
 ],
 "metadata": {
  "kernelspec": {
   "display_name": "Python 3",
   "language": "python",
   "name": "python3"
  },
  "language_info": {
   "codemirror_mode": {
    "name": "ipython",
    "version": 3
   },
   "file_extension": ".py",
   "mimetype": "text/x-python",
   "name": "python",
   "nbconvert_exporter": "python",
   "pygments_lexer": "ipython3",
   "version": "3.6.0"
  }
 },
 "nbformat": 4,
 "nbformat_minor": 2
}

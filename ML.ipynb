{
 "cells": [
  {
   "cell_type": "code",
   "execution_count": 1,
   "metadata": {
    "collapsed": false,
    "deletable": true,
    "editable": true
   },
   "outputs": [
    {
     "name": "stderr",
     "output_type": "stream",
     "text": [
      "Using TensorFlow backend.\n"
     ]
    }
   ],
   "source": [
    "import pandas as pd\n",
    "import numpy as np\n",
    "from salty import check_name\n",
    "import salty\n",
    "import keras\n",
    "import pickle\n",
    "from sklearn.linear_model import Lasso\n",
    "from sklearn.model_selection import cross_val_score\n",
    "from sklearn.ensemble import RandomForestRegressor\n",
    "from sklearn.svm import SVR\n",
    "import matplotlib.pyplot as plt \n",
    "import seaborn as sns\n",
    "from sklearn.preprocessing import StandardScaler\n",
    "from sklearn.preprocessing import MinMaxScaler\n",
    "from sklearn.model_selection import GridSearchCV\n",
    "%matplotlib inline"
   ]
  },
  {
   "cell_type": "code",
   "execution_count": 2,
   "metadata": {
    "collapsed": false,
    "deletable": true,
    "editable": true
   },
   "outputs": [
    {
     "name": "stdout",
     "output_type": "stream",
     "text": [
      "The target shape:(25991,)\n",
      "The feature shape:(25991, 190)\n"
     ]
    }
   ],
   "source": [
    "pickle_in = open(\"salts+descriptors.pkl\", \"rb\")\n",
    "df = pickle.load(pickle_in)\n",
    "target=df['Specific density, kg/m<SUP>3</SUP>']\n",
    "print('The target shape:'+ str(target.shape))\n",
    "features=df.drop(['name-cation','name-anion','smiles-anion','smiles-cation','salt_name','Specific density, kg/m<SUP>3</SUP>'],axis=1)\n",
    "print('The feature shape:'+ str(features.shape))\n",
    "df.to_csv('salts+descriptors.csv')"
   ]
  },
  {
   "cell_type": "code",
   "execution_count": 3,
   "metadata": {
    "collapsed": false
   },
   "outputs": [],
   "source": [
    "min_max=MinMaxScaler() #tranforming features\n",
    "features=min_max.fit_transform(features) "
   ]
  },
  {
   "cell_type": "code",
   "execution_count": 4,
   "metadata": {
    "collapsed": false,
    "deletable": true,
    "editable": true
   },
   "outputs": [
    {
     "data": {
      "text/plain": [
       "<matplotlib.text.Text at 0x1ff3ebe9278>"
      ]
     },
     "execution_count": 4,
     "metadata": {},
     "output_type": "execute_result"
    },
    {
     "data": {
      "image/png": "[encoded data removed]",
      "text/plain": [
       "<matplotlib.figure.Figure at 0x1ff3e631a58>"
      ]
     },
     "metadata": {},
     "output_type": "display_data"
    }
   ],
   "source": [
    "plt.hist(target,bins=15,color='c',edgecolor='black')\n",
    "plt.axvline(target.mean(), color='b', linestyle='dashed', linewidth=2)\n",
    "plt.xlabel('Density')\n",
    "plt.title('Density range')"
   ]
  },
  {
   "cell_type": "code",
   "execution_count": 5,
   "metadata": {
    "collapsed": false,
    "deletable": true,
    "editable": true
   },
   "outputs": [
    {
     "name": "stdout",
     "output_type": "stream",
     "text": [
      "[ 0.7887274   0.27181564  0.344093    0.5073716   0.49929816  0.69460049\n",
      "  0.51092853  0.60065762  0.59871072  0.68491717]\n"
     ]
    },
    {
     "data": {
      "text/plain": [
       "0.55011203211350201"
      ]
     },
     "execution_count": 5,
     "metadata": {},
     "output_type": "execute_result"
    }
   ],
   "source": [
    "lasso=Lasso(alpha=5) \n",
    "lasso_crossval=cross_val_score(lasso,features,target,cv=10) #returns R^2 predictions\n",
    "print(lasso_crossval)\n",
    "avg_lasso=np.mean(lasso_crossval)\n",
    "avg_lasso"
   ]
  },
  {
   "cell_type": "code",
   "execution_count": 6,
   "metadata": {
    "collapsed": false,
    "deletable": true,
    "editable": true
   },
   "outputs": [
    {
     "name": "stdout",
     "output_type": "stream",
     "text": [
      "Lasso(alpha=1.0, copy_X=True, fit_intercept=True, max_iter=1000,\n",
      "   normalize=False, positive=False, precompute=False, random_state=None,\n",
      "   selection='cyclic', tol=0.0001, warm_start=False)\n"
     ]
    }
   ],
   "source": [
    "parameters = {\"alpha\": list(np.linspace(1,10,10))}\n",
    "model = Lasso()\n",
    "grid = GridSearchCV(model,parameters)\n",
    "grid_result = grid.fit(features,target)\n",
    "print(grid_result.best_estimator_)"
   ]
  },
  {
   "cell_type": "code",
   "execution_count": 7,
   "metadata": {
    "collapsed": false,
    "deletable": true,
    "editable": true
   },
   "outputs": [
    {
     "name": "stdout",
     "output_type": "stream",
     "text": [
      "[ 0.79102969  0.66836192  0.77174938  0.80971398  0.53652147  0.86191828\n",
      "  0.85170941  0.71632646  0.73411244  0.87817245]\n"
     ]
    },
    {
     "data": {
      "text/plain": [
       "0.76196154940241645"
      ]
     },
     "execution_count": 7,
     "metadata": {},
     "output_type": "execute_result"
    }
   ],
   "source": [
    "lasso=grid_result.best_estimator_\n",
    "lasso_crossval=cross_val_score(lasso,features,target,cv=10) #returns R^2 predictions\n",
    "print(lasso_crossval)\n",
    "avg_lasso=np.mean(lasso_crossval)\n",
    "avg_lasso"
   ]
  },
  {
   "cell_type": "code",
   "execution_count": 8,
   "metadata": {
    "collapsed": false,
    "deletable": true,
    "editable": true
   },
   "outputs": [
    {
     "name": "stdout",
     "output_type": "stream",
     "text": [
      "[ 0.93028903  0.83582418  0.92305805  0.78295637  0.56873087  0.71646162\n",
      "  0.73820562  0.85094651  0.8727158   0.9209284 ]\n"
     ]
    },
    {
     "data": {
      "text/plain": [
       "0.81401164620743616"
      ]
     },
     "execution_count": 8,
     "metadata": {},
     "output_type": "execute_result"
    }
   ],
   "source": [
    "rf=RandomForestRegressor(n_jobs=-1) #returns r^2 predictions #\n",
    "rf_crossval=cross_val_score(rf,features,target,cv=10)\n",
    "print(rf_crossval)\n",
    "np.mean(rf_crossval)"
   ]
  },
  {
   "cell_type": "code",
   "execution_count": null,
   "metadata": {
    "collapsed": false,
    "deletable": true,
    "editable": true
   },
   "outputs": [
    {
     "data": {
      "image/png": "[encoded data removed]",
      "text/plain": [
       "<matplotlib.figure.Figure at 0x1ff3eed8f98>"
      ]
     },
     "metadata": {},
     "output_type": "display_data"
    }
   ],
   "source": [
    "plt.rcdefaults()\n",
    "objects = ('Lasso', 'RF')\n",
    "y_pos = np.arange(len(objects))\n",
    "metric=[avg_lasso,np.mean(rf_crossval)]\n",
    "plt.bar(y_pos, metric, align='center', alpha=1)\n",
    "plt.xticks(y_pos,objects)\n",
    "plt.xlabel('Models')\n",
    "plt.ylabel('R-square')\n",
    "plt.title('Comparing Models')\n",
    " \n",
    "plt.show()"
   ]
  },
  {
   "cell_type": "code",
   "execution_count": null,
   "metadata": {
    "collapsed": true
   },
   "outputs": [],
   "source": [
    "features"
   ]
  },
  {
   "cell_type": "code",
   "execution_count": null,
   "metadata": {
    "collapsed": true,
    "deletable": true,
    "editable": true
   },
   "outputs": [],
   "source": [
    "svr=SVR(kernel='linear') #returns r^2 predictions\n",
    "cross_val_score(svr,features,target,cv=10)"
   ]
  },
  {
   "cell_type": "markdown",
   "metadata": {
    "deletable": true,
    "editable": true
   },
   "source": [
    "Questions:\n",
    "* Any suggestions for hyperparameter tuning/feature selection ?\n",
    "* svr took too long, anyone used it?"
   ]
  },
  {
   "cell_type": "markdown",
   "metadata": {
    "collapsed": true,
    "deletable": true,
    "editable": true
   },
   "source": [
    "Future work:  \n",
    "* scale the features, with the minimum or the mean?\n",
    "* explore various feature selection options and different metrics\n",
    "* expand the data-base to get more unique smiles for CNN"
   ]
  },
  {
   "cell_type": "code",
   "execution_count": null,
   "metadata": {
    "collapsed": true,
    "deletable": true,
    "editable": true
   },
   "outputs": [],
   "source": []
  }
 ],
 "metadata": {
  "kernelspec": {
   "display_name": "Python 3",
   "language": "python",
   "name": "python3"
  },
  "language_info": {
   "codemirror_mode": {
    "name": "ipython",
    "version": 3
   },
   "file_extension": ".py",
   "mimetype": "text/x-python",
   "name": "python",
   "nbconvert_exporter": "python",
   "pygments_lexer": "ipython3",
   "version": "3.6.0"
  }
 },
 "nbformat": 4,
 "nbformat_minor": 2
}

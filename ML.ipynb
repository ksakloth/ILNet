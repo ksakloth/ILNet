{
 "cells": [
  {
   "cell_type": "code",
   "execution_count": 1,
   "metadata": {
    "collapsed": false,
    "deletable": true,
    "editable": true
   },
   "outputs": [
    {
     "name": "stderr",
     "output_type": "stream",
     "text": [
      "Using TensorFlow backend.\n"
     ]
    }
   ],
   "source": [
    "import pandas as pd\n",
    "import numpy as np\n",
    "from salty import check_name\n",
    "import salty\n",
    "import keras\n",
    "import pickle\n",
    "from sklearn.linear_model import Lasso\n",
    "from sklearn.ensemble import RandomForestRegressor\n",
    "from sklearn.svm import SVR\n",
    "import matplotlib.pyplot as plt \n",
    "import seaborn as sns\n",
    "from sklearn.preprocessing import StandardScaler, MinMaxScaler\n",
    "from sklearn.model_selection import GridSearchCV, train_test_split,cross_val_score\n",
    "from sklearn import metrics\n",
    "%matplotlib inline"
   ]
  },
  {
   "cell_type": "code",
   "execution_count": 2,
   "metadata": {
    "collapsed": false,
    "deletable": true,
    "editable": true
   },
   "outputs": [
    {
     "name": "stdout",
     "output_type": "stream",
     "text": [
      "The target shape:(25991,)\n",
      "The feature shape:(25991, 190)\n"
     ]
    }
   ],
   "source": [
    "pickle_in = open(\"salts+descriptors.pkl\", \"rb\")\n",
    "df = pickle.load(pickle_in)\n",
    "target=df['Specific density, kg/m<SUP>3</SUP>']\n",
    "print('The target shape:'+ str(target.shape))\n",
    "df=df.drop(['name-cation','name-anion','smiles-anion','smiles-cation','salt_name','Specific density, kg/m<SUP>3</SUP>'],axis=1)\n",
    "print('The feature shape:'+ str(df.shape))\n",
    "column_names=df.columns\n",
    "df.to_csv('salts+descriptors.csv')"
   ]
  },
  {
   "cell_type": "code",
   "execution_count": 3,
   "metadata": {
    "collapsed": false,
    "deletable": true,
    "editable": true
   },
   "outputs": [],
   "source": [
    "min_max=MinMaxScaler() #tranforming features\n",
    "features=min_max.fit_transform(df) "
   ]
  },
  {
   "cell_type": "code",
   "execution_count": 4,
   "metadata": {
    "collapsed": false,
    "deletable": true,
    "editable": true
   },
   "outputs": [
    {
     "data": {
      "text/plain": [
       "<matplotlib.text.Text at 0x13c95fbe278>"
      ]
     },
     "execution_count": 4,
     "metadata": {},
     "output_type": "execute_result"
    },
    {
     "data": {
      "image/png": "[encoded data removed]",
      "text/plain": [
       "<matplotlib.figure.Figure at 0x13c95c04630>"
      ]
     },
     "metadata": {},
     "output_type": "display_data"
    }
   ],
   "source": [
    "plt.hist(target,bins=15,color='c',edgecolor='black')\n",
    "plt.axvline(target.mean(), color='b', linestyle='dashed', linewidth=2)\n",
    "plt.xlabel('Density')\n",
    "plt.title('Density range')"
   ]
  },
  {
   "cell_type": "code",
   "execution_count": 5,
   "metadata": {
    "collapsed": false,
    "deletable": true,
    "editable": true
   },
   "outputs": [
    {
     "name": "stdout",
     "output_type": "stream",
     "text": [
      "The R2 for lasso: 0.945708966562\n",
      "The RMSE for lasso: 39.7799032968\n",
      "The R2 for cross_val_score training data: 0.947949671732\n",
      "The R2 for cross_val_score test data: 0.946643311219\n"
     ]
    }
   ],
   "source": [
    "#calculating features with lasso\n",
    "X_train, X_test, y_train, y_test = train_test_split(features, target, test_size=0.25, random_state=42)\n",
    "parameters = {\"alpha\": list(np.linspace(1,10,10))}\n",
    "model = Lasso(alpha=0.2)\n",
    "model.fit(X_train,y_train)\n",
    "model.coef_\n",
    "y_pred=model.predict(X_test)\n",
    "lasso_r2=metrics.r2_score(y_test,y_pred)\n",
    "print('The R2 for lasso: '+ str(metrics.r2_score(y_test,y_pred)))\n",
    "print('The RMSE for lasso: '+ str(np.sqrt(metrics.mean_squared_error(y_test,y_pred))))\n",
    "print('The R2 for cross_val_score training data: '+str(np.mean(cross_val_score(model,X_train,y_train,cv=5))))\n",
    "print('The R2 for cross_val_score test data: '+str(np.mean(cross_val_score(model,X_test,y_test,cv=5))))"
   ]
  },
  {
   "cell_type": "markdown",
   "metadata": {
    "collapsed": false,
    "deletable": true,
    "editable": true
   },
   "source": [
    "parameters = {\"alpha\": list(np.linspace(0.1,10,20))}\n",
    "model = Lasso()\n",
    "grid = GridSearchCV(model,parameters)\n",
    "grid_result = grid.fit(features,target)\n",
    "print(grid_result.best_estimator_)"
   ]
  },
  {
   "cell_type": "markdown",
   "metadata": {
    "collapsed": false,
    "deletable": true,
    "editable": true
   },
   "source": [
    "lasso=grid_result.best_estimator_\n",
    "lasso_crossval=cross_val_score(lasso,features,target,cv=10) #returns R^2 predictions\n",
    "print(lasso_crossval)\n",
    "avg_lasso=np.mean(lasso_crossval)\n",
    "avg_lasso"
   ]
  },
  {
   "cell_type": "code",
   "execution_count": 6,
   "metadata": {
    "collapsed": false,
    "deletable": true,
    "editable": true
   },
   "outputs": [
    {
     "name": "stdout",
     "output_type": "stream",
     "text": [
      "The R2 for RandomForest: 0.998409056027\n",
      "The RMSE for RandomForest: 6.80968638945\n"
     ]
    }
   ],
   "source": [
    "X_train, X_Test, y_train, y_test = train_test_split(features, target, test_size=0.25, random_state=42)\n",
    "rf=RandomForestRegressor(n_jobs=-1,n_estimators=10) #returns r^2 predictions #\n",
    "rf.fit(X_train,y_train)\n",
    "y_pred=rf.predict(X_Test)\n",
    "rf_r2=metrics.r2_score(y_test,y_pred)\n",
    "print('The R2 for RandomForest: '+ str(metrics.r2_score(y_test,y_pred)))\n",
    "print('The RMSE for RandomForest: '+ str(np.sqrt(metrics.mean_squared_error(y_test,y_pred))))\n",
    "feature_importance=rf.feature_importances_\n",
    "scores=pd.DataFrame({'feature':column_names,'score':feature_importance}).sort_values(by='score',ascending=False)\n",
    "scores_top90=scores[:90]"
   ]
  },
  {
   "cell_type": "code",
   "execution_count": 7,
   "metadata": {
    "collapsed": false,
    "deletable": true,
    "editable": true
   },
   "outputs": [],
   "source": [
    "top=[]\n",
    "for i in scores_top90['feature']:\n",
    "    top.append(i)\n",
    "features_svr=df[top]"
   ]
  },
  {
   "cell_type": "code",
   "execution_count": 8,
   "metadata": {
    "collapsed": false,
    "deletable": true,
    "editable": true
   },
   "outputs": [
    {
     "name": "stdout",
     "output_type": "stream",
     "text": [
      "0.927179431866\n"
     ]
    },
    {
     "data": {
      "text/plain": [
       "46.070900410499178"
      ]
     },
     "execution_count": 8,
     "metadata": {},
     "output_type": "execute_result"
    }
   ],
   "source": [
    "X_train, X_test, y_train, y_test = train_test_split(features, target, test_size=0.25, random_state=42)\n",
    "svr=SVR(kernel='linear') #returns r^2 predictions\n",
    "svr.fit(X_train,y_train)\n",
    "y_pred=svr.predict(X_test)\n",
    "svr_r2=metrics.r2_score(y_test,y_pred)\n",
    "print(metrics.r2_score(y_test,y_pred))\n",
    "np.sqrt(metrics.mean_squared_error(y_test,y_pred))"
   ]
  },
  {
   "cell_type": "code",
   "execution_count": 9,
   "metadata": {
    "collapsed": false,
    "deletable": true,
    "editable": true
   },
   "outputs": [
    {
     "data": {
      "image/png": "[encoded data removed]",
      "text/plain": [
       "<matplotlib.figure.Figure at 0x13c960e15f8>"
      ]
     },
     "metadata": {},
     "output_type": "display_data"
    }
   ],
   "source": [
    "plt.rcdefaults()\n",
    "objects = ('Lasso', 'RF','SVR')\n",
    "y_pos = np.arange(len(objects))\n",
    "metric=[lasso_r2,rf_r2,svr_r2]\n",
    "plt.bar(y_pos, metric, align='center', alpha=1)\n",
    "plt.xticks(y_pos,objects)\n",
    "plt.xlabel('Models')\n",
    "plt.ylabel('R-square')\n",
    "plt.title('Comparing Models')\n",
    "plt.show()"
   ]
  },
  {
   "cell_type": "markdown",
   "metadata": {
    "deletable": true,
    "editable": true
   },
   "source": [
    "Questions:\n",
    "* Any suggestions for hyperparameter tuning/feature selection ?\n",
    "* svr took too long, anyone used it?"
   ]
  },
  {
   "cell_type": "markdown",
   "metadata": {
    "collapsed": true,
    "deletable": true,
    "editable": true
   },
   "source": [
    "Future work:  \n",
    "* scale the features, with the minimum or the mean?\n",
    "* explore various feature selection options and different metrics\n",
    "* expand the data-base to get more unique smiles for CNN"
   ]
  },
  {
   "cell_type": "code",
   "execution_count": null,
   "metadata": {
    "collapsed": true,
    "deletable": true,
    "editable": true
   },
   "outputs": [],
   "source": []
  }
 ],
 "metadata": {
  "kernelspec": {
   "display_name": "Python 3",
   "language": "python",
   "name": "python3"
  },
  "language_info": {
   "codemirror_mode": {
    "name": "ipython",
    "version": 3
   },
   "file_extension": ".py",
   "mimetype": "text/x-python",
   "name": "python",
   "nbconvert_exporter": "python",
   "pygments_lexer": "ipython3",
   "version": "3.6.0"
  }
 },
 "nbformat": 4,
 "nbformat_minor": 2
}
